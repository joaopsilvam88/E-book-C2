{
 "cells": [
  {
   "cell_type": "code",
   "execution_count": 13,
   "metadata": {},
   "outputs": [],
   "source": [
    "from __future__ import division\n",
    "from sympy import *\n",
    "import numpy as np\n",
    "import scipy as sp\n",
    "from numpy import linalg\n",
    "from scipy import linalg\n",
    "import math\n",
    "from mpl_toolkits.mplot3d import axes3d\n",
    "import matplotlib.pyplot as plt\n",
    "init_printing()\n",
    "x, y, z, w = symbols('x y z w')"
   ]
  },
  {
   "cell_type": "markdown",
   "metadata": {},
   "source": [
    "# CÁLCULO DIFERENCIAL E INTEGRAL II - INTRODUCÃO AO CÁLCULO INTEGRAL E ÀS FUNCÕES DE VÁRIAS VARIÁVEIS\n",
    "\n",
    "Martins, J. P. S.; Oliveira, A. G. F.;  \n",
    "1(Santos, M. D.): DCC, CI, Universidade Federal da Paraíba, Joao Pessoa, Brasil, mdantas@ci.ufpb.br.  \n",
    "2(Oliveira, G. C. P): DCC, CI, Universidade Federal da Paraíba, Joao Pessoa, Brasil, gustavo.oliveira@ci.ufpb.br.  \n",
    "3(Souza, A. J.): DCC, CI, Universidade Federal da Paraíba, Joao Pessoa, Brasil, aparecidosouza@ci.ufpbr.br.\n",
    "\n",
    "## I. INTRODUÇÃO ÀS INTEGRAIS\n",
    "### A. Conceitos iniciais\n",
    "Nesse modulo buscamos compreender o conceito de Integral de uma funcão qualquer, bem como suas propriedades e métodos de resolução.\n",
    "\n",
    "**Definição -** Basicamente, uma integral representa o valor de uma área abaixo de uma curva determinada por uma funcão, ou seja, ao calcular uma integral, busca-se descobrir um valor do tamanho (em u.A.) de uma figura geometrica que está delimitada por uma funcão f(x).  \n",
    "\n",
    "Existem muitos métodos conhecidos para se calcular área interior à uma figura plana, mas nem em todos os casos, esses cálculos são tão simples de se resolver. Como por exemplo, observe a figura abaixo:\n",
    "\n",
    "![](Imagens/1.jpg)\n",
    "\n",
    "Veja que nenhuma das formulas utilizadas para se calcular áreas de figuras simples, como polígonos e circunferências iriam servir para definir um valor correto para a área dessa figura. E é por isso que utilizamos a integral.\n",
    "\n",
    "### B. Surgimento\n",
    "Alguns matemáticos, em busca de calcular a área embaixo dessas curvas tão complexas, perceberam que preenchendo essa curva com retângulos, o valor da área que se buscava encontrar poderia ser determinado pela soma das áreas de cada retângulo, já que, por convenção, sabemos calcular a área dos mesmos. Entao, \n",
    "\n",
    "![](Imagens/2.jpg)\n",
    "\n",
    "Porém, pela figura, percebemos que boa parte da área total da curva seria perdida (área amarela em baixo da curva), então, foi-se necessário utilizar de alguma técnica de refinamento para aperfeiçoar esse método de cálculo. \n",
    "\n",
    "Tendo isso em vista, esses estudiosos perceberam que quanto mais retângulos fossem colocados, mais próximo do valor real da área era alcançado.\n",
    "\n",
    "![](Imagens/3.jpg)\n",
    "\n",
    "Ou seja, para chegar ao valor exato da área, teríamos que ter uma soma das áreas de infinitos retângulos compondo essa curva, que pode ser representado por:\n",
    "\n",
    "$$A = \\lim_{x\\rightarrow \\infty} S_n$$\n",
    "Onde S é essa soma.\n",
    "\n",
    "Então, a integral é uma técnica que faz exatamente o mesmo que a soma explicada anteriormente.\n",
    "\n",
    "$$A = \\lim_{x\\rightarrow \\infty} S_n = \\int_a^b f(x) dx$$\n",
    "\n",
    "### C. Notação\n",
    "Vamos tomar a integral exemplificada anteriormente.\n",
    "\n",
    "$$\\int_a^b f(x) dx$$\n",
    "\n",
    "***f(x) →*** Função a ser integrada (ou integrando).  \n",
    "***a →*** Limite inferior.  \n",
    "***b →*** Limite superior.  \n",
    "***dx →*** Define que variável dentro da função está sendo integrada.\n",
    "\n",
    "### D. Propriedades\n",
    "\n",
    "**1ª propriedade:** A integral da soma de duas funções é igual à soma das integrais de cada função.  \n",
    "Ex.:\n",
    "$$\\int_a^b [f(x)\\pm g(x)]dx = \\int_a^b f(x)dx \\pm \\int_a^b g(x)dx$$\n",
    "\n",
    "**2ª propriedade:** A integral de uma função que multiplica uma constante é igual à constante vezes a integral da função.  \n",
    "Ex.:\n",
    "$$\\int_a^b c\\,f(x)dx = c\\int_a^b f(x)dx$$\n",
    "\n",
    "**3ª propriedade:** Se os limites de integração forem invertidos, o sinal da integral muda.  \n",
    "Ex.:\n",
    "$$\\int_a^b f(x)dx = -\\int_b^a f(x)dx$$\n",
    "\n",
    "**4ª propriedade:** Se os limites de integração forem iguais, o valor da integral é 0.  \n",
    "Ex.:\n",
    "$$\\int_a^a f(x)dx = 0$$\n",
    "\n",
    "**5ª propriedade:**  \n",
    "Ex.:\n",
    "$$\\int_a^b f(x)dx + \\int_b^c f(x)dx = \\int_a^c f(x)dx$$\n",
    "\n",
    "\n",
    "**6ª propriedade:** Se uma função é maior que 0 em um intervalo [a, b], a sua integral é positiva nesse intervalo. Caso contrário, a integral é negativa.\n",
    "\n",
    "**7ª propriedade:** Se uma função $f(x)$ é maior que outra $g(x)$, a integral de f também é maior que a integral de g.\n",
    "\n",
    "### E. A Antiderivada\n",
    "Por meio dos assuntos vistos até agora, é de se esperar que já saibamos como calcular a derivada de uma função qualquer (ou pelo menos grande parte das funções). Esse é o método que chamamos de derivação. Mas o que seria a antiderivação?\n",
    "Vamos lá! Se eu te mostrasse uma função, como por exemplo:\n",
    "\n",
    "$$f(x) = x² + 2x + 1$$\n",
    "\n",
    "É uma função simples de se calcular a derivada, que nesse caso seria:\n",
    "\n",
    "$$f’(x) = 2x + 2$$\n",
    "\n",
    "Agora vamos entender o conceito de antiderivação.\n",
    "Retomando a função $f’(x)$, irei te fazer um questionamento. Que função eu anteriormente derivei para me gerar $2x + 2$?\n",
    "\n",
    "Nesse caso, sabemos que a função foi $x² + 2x + 1$, porque fizemos todo o processo lá em cima, mas como eu posso descobrir isso utilizando manipulações matemáticas?\n",
    "\n",
    "Esse é o conceito de ***antiderivada***, ***primitiva***, ou melhor ainda, ***integral indefinida***.\n",
    "\n",
    "Mas até agora não falamos muito sobre integral definida ou indefinida, mas o que você precisa saber é que a definida apresenta limites de integração, e o seu cálculo geral um número como resultado, já a indefinida não contém limites de integração e o seu cálculo só gera a função integrada.\n",
    "\n",
    "Pense na integral indefinida como uma etapa da integral definida, porém, com a diferença de que os limites não são aplicados.\n",
    "\n",
    "**Obs.** Lembre-se sempre de acrescentar uma constante à integral indefinida, para fazer com que ela represente todas as primitivas da função.\n",
    "\n",
    "## II. MÉTODOS DE INTEGRAÇÃO\n",
    "\n",
    "Nesta seção iremos discutir um pouco sobre como funciona a resolução de integrais, como também alguns métodos de integração pré-definidos.\n",
    "\n",
    "Primeiro, a técnica base para cálculo de integrais é a seguinte:\n",
    "\n",
    "Suponhamos uma função $f(x) = x^2.$ Qual a integral dessa função?\n",
    "\n",
    "Para fazer isso, basta somar 1 ao expoente e dividir a função pelo mesmo. Ou seja,\n",
    "\n",
    "$$\\int x^n dx= \\frac{x^{n+1}}{n+1}$$\n",
    "\n",
    "Então, a  função $f(x)$ integrada fica.\n",
    "\n",
    "$$\\int x^2 dx= \\frac{x^3}{3}$$\n",
    "\n",
    "\n",
    "Façamos mais um exemplo:\n",
    "\n",
    "Ex. 1: Determine a integral da função $g(x) = 3x^2 + 5x - 1$?\n",
    "\n",
    "Inicialmente, vamos aplicar a primeira propriedade da resolução de integrais. \n",
    "\n",
    "\n",
    "$$\\int (3x^2 + 5x - 1)dx = \\int 3x^2 dx + \\int 5x dx - \\int 1 dx$$\n",
    "\n",
    "Agora, basta aplicarmos a técnica base vista anteriormente. Então, \n",
    "$$\\int g(x) dx = \\frac{3x^3}{3} + \\frac{5x^2}{2} - x + C$$\n",
    "\n",
    "**Obs.** Lembre-se sempre de adicionar a constante após integrar uma função (caso a integral seja indefinida).\n",
    "\n",
    "Para fazer esse cálculo em Python podemos fazer o seguinte:"
   ]
  },
  {
   "cell_type": "code",
   "execution_count": 11,
   "metadata": {},
   "outputs": [
    {
     "data": {
      "text/latex": [
       "$\\displaystyle x^{3} + \\frac{5 x^{2}}{2} - x$"
      ],
      "text/plain": [
       "        2    \n",
       " 3   5⋅x     \n",
       "x  + ──── - x\n",
       "      2      "
      ]
     },
     "execution_count": 11,
     "metadata": {},
     "output_type": "execute_result"
    }
   ],
   "source": [
    "from __future__ import division\n",
    "from sympy import *\n",
    "import math\n",
    "init_printing()\n",
    "x, y, z, w = symbols('x y z w')\n",
    "def g(x):\n",
    "    return (3*x**2 + 5*x -1)\n",
    "\n",
    "integrate(g(x), x)"
   ]
  },
  {
   "cell_type": "markdown",
   "metadata": {},
   "source": [
    "\n",
    "### A. Algumas integrais fundamentais\n",
    "Então, assim como na derivada, também há algumas funções cuja sua integral já é pré-definida, como por exemplo, as funções trigonométricas, logarítmicas e exponenciais.\n",
    "\n",
    "Esta subseção irá apresentar algumas dessas transformações pré-definidas que serão mais utilizadas no estudo das integrais.  \n",
    "Primeiro de tudo, vamos examinar um pouco sobre as funções trigonométricas $sen(x)$ e $cos(x)$. Quais as integrais dessas funções? Vamos lá!\n",
    "\n",
    "\n",
    "1. $$\\int sen(x)dx = -cos(x)$$\n",
    "2. $$\\int cos(x)dx = sen(x)$$\n",
    "\n",
    "As funções desta seção têm de ser decoradas para que sejam aplicadas futuramente. Mas uma dica para decorar essas integrais trigonométricas básicas pode ser a da análise do ciclo trigonométrico.\n",
    "\n",
    "![](Imagens/4.jpg)\n",
    "\n",
    "Como vocês podem ver, o ciclo já simplifica muito esse trabalho para nós. Então, analisando o mesmo, podemos perceber que o percorrendo em sentido horário, a função trigonométrica é derivada, em contrapartida, se percorermos o ciclo em sentido anti-horário, a função é integrada. Daí, podemos confirmar as equações (1) e (2), assim como definir que as integrais de $-cos(x)$ e $-sen(x)$ são:\n",
    "\n",
    "$$\\int -cos(x)dx = -sen(x)$$\n",
    "$$\\int -sen(x)dx = cos(x)$$\n",
    "\n",
    "Analisemos mais algumas integrais trigonométricas:\n",
    "\n",
    "$$\\int tg(x)dx = ln|sec(x)|$$\n",
    "$$\\int sec(x)dx = ln|sec(x)+tg(x)|$$\n",
    "$$\\int cossec(x)dx = -ln|cossec(x)+cotg(x)|$$\n",
    "$$\\int sec^2(x)dx = tg(x)$$\n",
    "$$\\int cossec^2(x)dx = -cotg(x)$$\n",
    "$$\\int sec(x)tg(x)dx = sec(x)$$\n",
    "$$\\int cossec(x)cotg(x)dx = -cossec(x)$$\n",
    "\n",
    "Agora basta guardar essas integrais com você que o resto do assunto vai ser tranquilo.\n",
    "\n",
    "Outras integrais que serão super necessárias com o decorrer do assunto são as exponenciais. Mas elas são simples de se aprender. Veja só!\n",
    "\n",
    "$$\\int e^xdx = e^x$$\n",
    "$$\\int a^xdx = \\frac{a^x}{ln|a|}$$\n",
    "\n",
    "### B. Integração por Substituição\n",
    "\n",
    "A partir desse ponto, o cálculo de integrais começa a se complicar um pouco mais. Isso porque funções mais complexas e elaboradas não podem ser integradas utilizando apenas a técnica base e as propriedades de integração.\n",
    "\n",
    "Vamos supor uma função bem simples, $f(x) = e^{x+2}$, você saberia me dizer qual a sua integral?  \n",
    "Para resolvê-la, utilizamos uma técnica chamada Integração por substituição, que obedece os seguintes passos:\n",
    " \n",
    "1. Tome uma parte da função como sendo uma variável qualquer (convencionamente chamamos de $'u'$).\n",
    "2. Derive essa parte e veja se essa derivada está na função integranda. \n",
    "3. Caso a mesma esteja, substitua a variável e a derivada na equação.\n",
    "4. Verifique se não ficou nenhum termo da variável de integração original na função. Caso isso ocorra, integre a função.\n",
    "5. Substitua a variável utilizada pelo seu valor na função original.\n",
    "\n",
    "Vamos aplicar essa técnica em $f(x)$.\n",
    " \n",
    "$$\\int e^{x+2}dx = ?$$\n",
    "\n",
    "Tomemos $u$ como sendo $x+2$. \n",
    "\n",
    "Fazendo alguns cálculos vemos que a sua derivada $du$ é igual à $dx$, que claramente está na função integranda.\n",
    "\n",
    "Agora o que resta é substituir $u$ e $du$ na função e verificar a existência de termos que não puderam ser substituídos.\n",
    "\n",
    "Como $u = x+2$ e $du = dx$, temos: $$\\int e^udu = \\,?$$\n",
    "\n",
    "Agora basta aplicar a propriedade de integração de função exponencial que vimos anteriormente, e depois substituir de volta a variável $u$. Ou seja,\n",
    "\n",
    "$$\\int e^udu = e^u = e^{x+2}$$"
   ]
  },
  {
   "cell_type": "code",
   "execution_count": 19,
   "metadata": {},
   "outputs": [
    {
     "data": {
      "text/latex": [
       "$\\displaystyle e^{x + 2}$"
      ],
      "text/plain": [
       " x + 2\n",
       "ℯ     "
      ]
     },
     "execution_count": 19,
     "metadata": {},
     "output_type": "execute_result"
    }
   ],
   "source": [
    "def f(x):\n",
    "    return (exp(x+2))\n",
    "\n",
    "integrate(f(x), x)"
   ]
  },
  {
   "cell_type": "markdown",
   "metadata": {},
   "source": [
    "### C. Integração por Partes\n",
    "\n",
    "O método de integração por partes é uma técnica que é geralmente utilizada quando, na função a ser integrada temos uma multiplicação de funções de tipos diferentes.\n",
    "\n",
    "Poderíamos até provar esse método à partir de derivadas de um produto de funções, mas o escopo deste livro não se aprofunda tanto nesse sentido.\n",
    "\n",
    "Sem mais delongas, a integração por partes afirma o seguinte:\n",
    "\n",
    "$$\\int f(x)g(x)dx = u.v - \\int v du$$\n",
    "\n",
    "Tal que ***u*** é uma das funções e ***du*** é sua derivada, e ***dv*** é a outra função, onde ***v*** é sua integral.\n",
    "\n",
    "Aí você deve estar se perguntando, como eu sei escolher qual das funções será \n",
    "***u*** e qual será ***dv***?\n",
    "\n",
    "Então, muitos materiais que abordam o cálculo de integrais utilizam um padrão chamado ***LIATE***, que basicamente você deve seguir para definir quem será cada uma das funções.\n",
    "\n",
    "Esse padrão segue uma sequência, onde o valor de u se dá de acordo com a função que aparecer.\n",
    "\n",
    "LIATE significa:\n",
    "\n",
    "1. L - Função logarítmica\n",
    "2. I - Função inversa trigonométrica\n",
    "3. A - Função aritmética\n",
    "4. T - Função trigonométrica\n",
    "5. E - Função exponencial\n",
    "\n",
    "Então, para se definir o valor de **u**, você deve perceber qual das funções aparecem primeiro, seguindo essa sequência, e então atribuí-lo.\n",
    "\n",
    "**Obs.** Nem sempre essa sequência dá certo, então é sempre bom ficar de olho quando for utilizar esse método.\n",
    "\n",
    "Exemplo 1.\n",
    "\n",
    "Calcule a integral de $f(x) = x.e^x$.\n",
    "\n",
    "Primeiro, notemos que f(x) é composta por um produto de duas funções, uma aritmética e outra exponencial. Então nesse caso, utilizaremos a integração por partes. Seguindo a sequência LIATE, temos que a variável u será igual à x, já que a função aritmética aparece antes da exponencial. \n",
    "\n",
    "Substituindo os valores e calculando, temos:\n",
    "\n",
    "$$\\int x.e^xdx \\rightarrow\\left\\{ \\begin{array}{c}\n",
    "u = x, du = dx\\\\\n",
    "dv = e^xdx, v = e^x\\\\\n",
    "\\end{array}\n",
    "\\right.$$\n",
    "\n",
    "Seguindo a fórmula, temos:\n",
    "\n",
    "$$uv - \\int vdu = xe^x - \\int e^xdx = xe^x - e^x$$"
   ]
  },
  {
   "cell_type": "code",
   "execution_count": 18,
   "metadata": {},
   "outputs": [
    {
     "data": {
      "text/latex": [
       "$\\displaystyle \\left(x - 1\\right) e^{x}$"
      ],
      "text/plain": [
       "         x\n",
       "(x - 1)⋅ℯ "
      ]
     },
     "execution_count": 18,
     "metadata": {},
     "output_type": "execute_result"
    }
   ],
   "source": [
    "def f(x):\n",
    "    return (x*exp(x))\n",
    "\n",
    "integrate(f(x), x)"
   ]
  },
  {
   "cell_type": "markdown",
   "metadata": {},
   "source": [
    "Exemplo 2.\n",
    "\n",
    "Calcule a integral de $f(x) = \\frac{ln(x).x^3}{6}$.\n",
    "\n",
    "Vamos começar definindo u e dv.\n",
    "\n",
    "$$\\int \\frac{ln(x)x^3}{6}dx \\rightarrow\\left\\{ \\begin{array}{c}\n",
    "u = ln(x), du = \\frac{dx}{x}\\\\\n",
    "dv = x^3dx, v = \\frac{x^4}{4}\\\\\n",
    "\\end{array}\n",
    "\\right.$$\n",
    "\n",
    "$$\\frac{1}{6}\\left[\\frac{x^4ln(x)}{4} - \\int \\frac{x^4dx}{4x}\\right] = \\frac{1}{6}\\left[\\frac{x^4ln(x)}{4} - \\frac{1}{4} \\int x^3dx\\right]$$ $$=\\frac{1}{6}\\left[\\frac{x^4ln(x)}{4} - \\frac{1}{4} \\frac{x^4}{4}\\right] = \\frac{1}{6}\\left[\\frac{x^4ln(x)}{4} - \\frac{x^4}{16}\\right].$$"
   ]
  },
  {
   "cell_type": "code",
   "execution_count": 17,
   "metadata": {},
   "outputs": [
    {
     "data": {
      "text/latex": [
       "$\\displaystyle \\frac{x^{4} \\log{\\left(x \\right)}}{24} - \\frac{x^{4}}{96}$"
      ],
      "text/plain": [
       " 4           4\n",
       "x ⋅log(x)   x \n",
       "───────── - ──\n",
       "    24      96"
      ]
     },
     "execution_count": 17,
     "metadata": {},
     "output_type": "execute_result"
    }
   ],
   "source": [
    "def f(x):\n",
    "    return ((ln(x)*x**3)/6)\n",
    "\n",
    "integrate(f(x), x)"
   ]
  },
  {
   "cell_type": "markdown",
   "metadata": {},
   "source": [
    "### D. Integração por Substituição Trigonométrica\n",
    "\n",
    "Esse tipo de técnica é utilizada quando nos deparamos com funções que apresentam raízes em denominadores, nas quais as mesmas não podem ser resolvidas por substituição simples ou por partes.\n",
    "\n",
    "O método se baseia no seguinte:\n",
    "\n",
    "Quando em uma função a ser integrada aparecer funções com $\\sqrt{x^2+a^2}$, $\\sqrt{x^2-a^2}$ ou $\\sqrt{a^2-x^2}$, podemos fazer uma substituição da variável x pelas seguintes funções:\n",
    "\n",
    "\n",
    "Caso a função contenha $\\sqrt{x^2-a^2}$\n",
    "1. Caso $\\sqrt{x^2+a^2} \\rightarrow x = a.tg\\theta$\n",
    "2. Caso $\\sqrt{x^2-a^2} \\rightarrow x = a.sec\\theta$\n",
    "3. Caso $\\sqrt{a^2-x^2} \\rightarrow x = a.sen\\theta$ ou $a.cos\\theta$\n",
    " \n",
    "Após fazer essa subtituição basta calcular a integral normalmente, e daí substituir de volta as funções trigonométricas do resultado final pelo ciclo trigonométrico.\n",
    "\n",
    "Exemplo 1.\n",
    "\n",
    "Calcule a integral de $f(x) = \\frac{dx}{\\sqrt{16+x^2}}$.\n",
    "\n",
    "Vamos fazer a substituição da variável x e da sua derivada dx.\n",
    "\n",
    "Como $x^2+4^2 \\rightarrow x = a.tg\\theta, a = 4$ \n",
    "$\\rightarrow\\left\\{ \\begin{array}{c}\n",
    "x = 4tg\\theta\\\\\n",
    "dx = 4sec\\theta d\\theta\\\\\n",
    "\\end{array}\n",
    "\\right.$\n",
    "\n",
    "Substituindo as variáveis temos:\n",
    "\n",
    "$$\\int \\frac{4sec\\theta d\\theta}{\\sqrt{16+(4tg\\theta)^2}} = 4\\int \\frac{sec\\theta d\\theta}{\\sqrt{16+16tg^2\\theta}} = 4\\int \\frac{sec\\theta d\\theta}{\\sqrt{16 (1+tg^2\\theta)}}$$\n",
    "\n",
    "E como sabemos pelas relações trigonométricas, $1+tg^2\\theta = sec^2\\theta$, nossa integral fica:\n",
    "\n",
    "$$4\\int \\frac{sec\\theta d\\theta}{\\sqrt{16 sec^2\\theta}} = 4\\int \\frac{sec\\theta d\\theta}{4 sec\\theta} = 4.\\frac{1}{4}\\int d\\theta = \\theta$$\n",
    "\n",
    "Como $x=4tg\\theta \\rightarrow tg\\theta = \\frac{x}{4} \\rightarrow \\theta = arctg(\\frac{x}{4})$. Que é o resultado da integral."
   ]
  },
  {
   "cell_type": "code",
   "execution_count": 16,
   "metadata": {},
   "outputs": [
    {
     "data": {
      "text/latex": [
       "$\\displaystyle \\operatorname{asinh}{\\left(\\frac{x}{4} \\right)}$"
      ],
      "text/plain": [
       "     ⎛x⎞\n",
       "asinh⎜─⎟\n",
       "     ⎝4⎠"
      ]
     },
     "execution_count": 16,
     "metadata": {},
     "output_type": "execute_result"
    }
   ],
   "source": [
    "def f(x):\n",
    "    return (1/sqrt(16+x**2))\n",
    "\n",
    "integrate(f(x), x)"
   ]
  },
  {
   "cell_type": "markdown",
   "metadata": {},
   "source": [
    "### E. Cálculo de áreas entre curvas\n",
    "\n",
    "Agora chegamos em um ponto desse material em que colocamos em prática os conceito de integral para calcular de fato as áreas mencionadas anteriormente.\n",
    "\n",
    "Nesse caso, iremos calcular à princípio a área delimitada por uma curva e um eixo.\n",
    "\n",
    "Dada uma curva delimitada por uma função $f(x) = x^2$, como calcular a área entre essa função e o eixo X no intervalo $[-2, 2]$?\n",
    "Para isso basta integrar a função normalmente tal que os limites de integração são substituídos por -2 e 2."
   ]
  },
  {
   "cell_type": "code",
   "execution_count": 15,
   "metadata": {},
   "outputs": [
    {
     "data": {
      "text/latex": [
       "$\\displaystyle \\frac{16}{3}$"
      ],
      "text/plain": [
       "16/3"
      ]
     },
     "execution_count": 15,
     "metadata": {},
     "output_type": "execute_result"
    }
   ],
   "source": [
    "def f(x):\n",
    "    return (x**2)\n",
    "\n",
    "integrate(f(x),(x,-2,2))"
   ]
  },
  {
   "cell_type": "markdown",
   "metadata": {},
   "source": [
    "**Obs.** Esse conceito se aplica apenas para funções positivas. Quando a mesma for negativa, deve-se inverter o sinal da integral, ou seja:\n",
    "\n",
    "\n",
    "![](Imagens/5.jpg)\n",
    "\n",
    "**Obs.** Em alguns casos é faz-se necessário dividir a função para calculá-la em intervalos menores, para facilitar esse cálculo.\n",
    "\n",
    "### F. Cálculo de volume de discos e anéis\n",
    "\n",
    "Assim como área, podemos utilizar integrais para fazer o cálculo de volume de sólidos obtidos pela rotação de uma função em um eixo.\n",
    "\n",
    "![](Imagens/6.jpg)\n",
    "\n",
    "Devemos observar que essa função ao ser rotacionada gera infinitos discos, que ao serem somados geram áreas. A soma dessas áreas resulta no cálculo do volume do sólido.\n",
    "\n",
    "![](Imagens/7.jpg)\n",
    "\n",
    "Para calcular esse volume, basta calcular a integral da função $f(x)$ na forma:\n",
    "\n",
    "$$\\int^b_a \\pi[f(x)]^2dx$$\n",
    "\n",
    "**Obs.** Isso somente para a rotação em torno do eixo X. No caso de a rotação ser em torno de uma variável qualquer A no eixo Y, deve-se subtrair da função esse valor para calcular a integral. Ou seja,\n",
    "\n",
    "$$\\int^b_a \\pi[f(x)-A]^2dx$$\n",
    "\n",
    "Exemplo 1.\n",
    "\n",
    "Calcule o volume gerado pela rotação de $f(x) = x^2$ em torno do eixo X, entre 0 e 3.\n",
    "\n",
    "Vamos entao analisar o gráfico da função.\n",
    "![](Imagens/7.jpg)\n",
    "\n",
    "Limitando-a entre 0 e 3 temos:\n",
    "![](Imagens/8.jpg)\n",
    "\n",
    "Agora calculando a integral pela formula temos:\n",
    "\n",
    "$$V = \\int^3_0 \\pi[x^2]^2dx = \\int^3_0 \\pi x^4dx = \\pi \\int^3_0 x^4dx$$\n",
    "$$ = \\pi \\left[\\frac{x^5}{5}\\right]^3_0 = \\pi\\frac{3^5}{5} = \\pi\\frac{243}{5}$$"
   ]
  },
  {
   "cell_type": "code",
   "execution_count": 14,
   "metadata": {},
   "outputs": [
    {
     "data": {
      "text/latex": [
       "$\\displaystyle 152.681402964464$"
      ],
      "text/plain": [
       "152.681402964464"
      ]
     },
     "execution_count": 14,
     "metadata": {},
     "output_type": "execute_result"
    }
   ],
   "source": [
    "def f(x):\n",
    "    return (x**2)\n",
    "\n",
    "integrate(math.pi*(f(x)**2),(x,0,3))"
   ]
  },
  {
   "cell_type": "markdown",
   "metadata": {},
   "source": [
    "Exemplo 2.\n",
    "\n",
    "Calcule o volume gerado pela rotação de $f(x) = 6+x^3$ em torno do eixo X, entre -1 e 2.\n",
    "\n",
    "Analisando o gráfico.\n",
    "\n",
    "![](Imagens/9.jpg)\n",
    "\n",
    "Limitando entre -1 e 2.\n",
    "![](Imagens/10.jpg)\n",
    "\n",
    "Rotacionando.\n",
    "![](Imagens/11.jpg)\n",
    "\n",
    "E por fim, calculando a integral.\n",
    "$$V = \\int^2_{-1} \\pi[6+x^3]^2dx = \\pi\\int^2_{-1} x^6+12x^3+36dx $$\n",
    "$$= \\pi\\left[\\frac{x^7}{7}+3x^4+36x\\right]^2_{-1} = \\pi\\left[\\frac{2^7}{7}+2.2^4+36.2\\right]$$\n",
    "$$-\\pi\\left[\\frac{(-1)^7}{7}+2(-1)^4+36.(-1)\\right] = \\pi\\left[\\frac{128}{7}+48+722\\right]$$\n",
    "$$- \\pi\\left[\\frac{-1}{7}+3-36\\right] = \\pi\\left[\\frac{128+336+504}{7}\\right]$$\n",
    "$$-\\pi\\left[\\frac{-1+21+252}{7}\\right] = \\pi\\left[\\frac{968}{7}-\\frac{272}{7}\\right] = \\pi\\frac{696}{7}$$"
   ]
  },
  {
   "cell_type": "code",
   "execution_count": 13,
   "metadata": {},
   "outputs": [
    {
     "data": {
      "text/latex": [
       "$\\displaystyle 538.558740615393$"
      ],
      "text/plain": [
       "538.558740615393"
      ]
     },
     "execution_count": 13,
     "metadata": {},
     "output_type": "execute_result"
    }
   ],
   "source": [
    "def f(x):\n",
    "    return (6+x**3)\n",
    "\n",
    "integrate(math.pi*(f(x)**2),(x,-1,2))"
   ]
  },
  {
   "cell_type": "markdown",
   "metadata": {},
   "source": [
    "Quando temos duas funções e queremos calcular o volume do sólido de revolução entre as mesmas, podemos utilizar o mesmo princípio dos discos, subtraindo a função menor da maior. Ou seja,\n",
    "\n",
    "$$\\int^b_a (\\pi[f(x)]^2 - \\pi[g(x)]^2)dx$$\n",
    "\n",
    "Para o caso de a rotação das funções não serem em torno do eixo X, basta subtrair das duas funções o valor da posição da reta no eixo Y. Ficando assim com:\n",
    "\n",
    "$$\\int^b_a (\\pi[f(x)-A]^2 - \\pi[g(x)-A]^2)dx$$\n",
    "\n",
    "Exemplo 3.\n",
    "\n",
    "Calcule o volume do sólido obtido pela rotação das funções $f(x) = x^2+4$ e $g(x) = x+2$ em torno do eixo X, entre 0 e 5.\n",
    "\n",
    "Analisando o gráfico das funções.\n",
    "![](Imagens/12.jpg)\n",
    "\n",
    "Rotacionando.\n",
    "![](Imagens/13.jpg)\n",
    "\n",
    "E por fim, calculando a integral.\n",
    "\n",
    "$$ = \\int^9_0\\pi [x^2+4]^2-\\pi[x+2]^2dx $$\n",
    "$$= \\pi \\int^5_0x^4+3^2+16 - (x^2+4x+4)dx$$\n",
    "$$= \\pi \\left[\\frac{x^5}{5} + \\frac{8x^3}{3} + 16x - \\frac{x^3}{3} - 2x^2 - 4x\\right]^5_0 $$\n",
    "$$= \\pi \\left[\\frac{x^5}{5} + \\frac{5x^3}{3} -2x^2+12x]\\right]^5_0 =  \\pi \\left[\\frac{5^5}{5} + \\frac{5.5^3}{3} -2.5^2+12.5]\\right]$$\n",
    "$$= \\pi \\left[625+\\frac{625}{3} -50+60\\right] = \\pi\\left[\\frac{1875+625+30}{3}\\right]$$\n",
    "$$\\pi\\frac{2530}{3}$$\n"
   ]
  },
  {
   "cell_type": "code",
   "execution_count": 12,
   "metadata": {},
   "outputs": [
    {
     "data": {
      "text/latex": [
       "$\\displaystyle 2911.20919232654$"
      ],
      "text/plain": [
       "2911.20919232654"
      ]
     },
     "execution_count": 12,
     "metadata": {},
     "output_type": "execute_result"
    }
   ],
   "source": [
    "def f(x):\n",
    "    return (x**2+4)\n",
    "\n",
    "def g(x):\n",
    "    return (x+2)\n",
    "\n",
    "integrate(math.pi*(f(x)**2-g(x)**2),(x,0,5))"
   ]
  },
  {
   "cell_type": "markdown",
   "metadata": {},
   "source": [
    "### G. Cálculo de volume com cascas cilíndricas\n",
    "\n",
    "É um método utilizado para calcular o volume dos sólidos de revolução que são sólidos gerados pela rotação de uma figura em torno de um eixo. Esse método é bastante semelhante aos que vimos anteriormente, porém nesse caso, calculamos utilizando a forma:\n",
    "\n",
    "$$\\int^b_a 2\\pi xf(x)dx$$\n",
    "\n",
    "Exemplo 1.\n",
    "\n",
    "Calcule o volume obtido pela rotação da figura delimitada por $f(x) = x^2 + 2x + 1$ em torno do eixo X entre -1 e 3.\n",
    "\n",
    "Analisando o gráfico.\n",
    "![](Imagens/14.jpg)\n",
    "\n",
    "Rotacionando.\n",
    "![](Imagens/15.jpg)\n",
    "\n",
    "E por fim, calculando a integral.\n",
    "\n",
    "$$V = \\int^3_{-1}2\\pi x(x^2+2x+1) = 2\\pi \\int^3_{-1}x^3+2x^2+xdx $$\n",
    "$$= 2\\pi\\left[\\frac{x^4}{4}+\\frac{2x^3}{3}+\\frac{x^2}{2}\\right]^3_{-1} = 2\\pi\\left[\\frac{3^4}{4}+\\frac{2.3^3}{3}+\\frac{3^2}{2}\\right]$$\n",
    "$$-2\\pi\\left[\\frac{(-1)^4}{4}+\\frac{2(-1)^3}{3}+\\frac{(-1)^2}{2}\\right] $$\n",
    "$$= 2\\pi\\left[\\frac{81}{4}+18+\\frac{9}{2}-\\frac{1}{4}+\\frac{2}{3}-\\frac{1}{2}\\right]$$\n",
    "$$=2\\pi\\left[\\frac{80}{4}+\\frac{8}{2}+\\frac{2}{3}+18\\right] $$\n",
    "$$= 2\\pi\\left[46+\\frac{2}{3}\\right]=2\\pi \\frac{138+2}{3} = 2\\pi\\frac{140}{3}=\\pi\\frac{280}{3}$$"
   ]
  },
  {
   "cell_type": "code",
   "execution_count": 10,
   "metadata": {},
   "outputs": [
    {
     "data": {
      "text/latex": [
       "$\\displaystyle 268.082573106329$"
      ],
      "text/plain": [
       "268.082573106329"
      ]
     },
     "execution_count": 10,
     "metadata": {},
     "output_type": "execute_result"
    }
   ],
   "source": [
    "def f(x):\n",
    "    return (x**2+2*x+1)\n",
    "\n",
    "integrate(2*math.pi*x*f(x),(x,-1,3))"
   ]
  },
  {
   "cell_type": "markdown",
   "metadata": {},
   "source": [
    "### H. Frações Parciais\n",
    "\n",
    "Em alguns casos, as funções que iremos integrar podem ter divisões de polinômions na qual o grau do numerador é menor que o do denominador, fazendo com que o cálculo dessas integrais sejam bastante complexos. Para se resolver isso, utilizamos esse método que busca simplificar bastante as funções a serem integradas, dividindo-as assim e somas de frações com polinômios com graus mais baixos.\n",
    "\n",
    "Existem quatro casos que devemos seguir para se calcular corretamente as frações parciais.\n",
    "\n",
    "**1º Caso:** Fatores do denominador lineares e de raízes distintas.\n",
    "\n",
    "Quando ocorrerem funções desse tipo, basta simplificar o polinômio pelas suas raízes e igualar a função à soma de uma constante dividida pelo primeiro monômio com uma outra constante dividida pelo outro monômio.\n",
    "\n",
    "E por fim, basta calcular o sistema, substituir A e B na função, e calcular a integral da soma dessas funções.\n",
    "\n",
    "Exemplo 1.\n",
    "\n",
    "Para calcular a integral de $f(x) = \\frac{x+3}{x^2-4x+3}$ devemos desmembrar a mesma em frações parciais. Para isso, façamos:\n",
    "\n",
    "$$\\frac{x+3}{x^2-4x+3} = \\frac{A}{x-3}+\\frac{B}{x-1}$$\n",
    "\n",
    "Agora vamos tirar o MMC do lado direito da equação:\n",
    "\n",
    "$$\\frac{x+3}{x^2-4x+3} = \\frac{(x-1)A+(x-3)B}{(x-3)(x-1)}$$\n",
    "\n",
    "Podemos então simplificar a equação tirando os denominadores das duas frações, já que ambos são iguais.\n",
    "\n",
    "$$x+3 = (x-1)A+(x-3)B\\rightarrow x+3 = Ax-A+Bx-3B$$\n",
    "\n",
    "Agora basta montar um sistema com essas equações, resolver e substituir tudo na equação final.\n",
    "\n",
    "$$\\left\\{ \\begin{array}{c}\n",
    "Ax+Bx = x\\\\\n",
    "-A-3B = 3\\\\\n",
    "\\end{array}\n",
    "\\right.\n",
    "$$\n",
    "\n",
    "Pela primeira equação temos:\n",
    "$$x(A+B) = x \\rightarrow A+B=1 \\rightarrow A = 1-B$$\n",
    "\n",
    "Substituindo na segunda equação:\n",
    "\n",
    "$$-(1-B)-3B = 3 \\rightarrow -1+B-3B=3 \\rightarrow-2B = 2 \\rightarrow B = -2$$\n",
    "\n",
    "Colocando o valor de B na primeira equação chegamos a:\n",
    "\n",
    "$$A = 1-(-2) = 3$$\n",
    "\n",
    "Tendo os valores de A e de B podemos então substituir na equação que nós montamos lá em cima.\n",
    "\n",
    "$$f(x) = \\frac{A}{x-3}+\\frac{B}{x-1} \\rightarrow \\frac{3}{x-3}+\\frac{-2}{x-1}$$\n",
    "\n",
    "E enfim, podemos calcular nossa integral de maneira mais simples.\n",
    "\n",
    "$$\\int\\frac{3}{x-3}+\\frac{-2}{x-1} = 3\\int\\frac{dx}{x-3}-2\\int\\frac{dx}{x-1}$$\n",
    "\n",
    "Fazendo duas substituição simples temos:\n",
    "\n",
    "$$u = x-3, du = dx$$ e $$v = x-1, dv = dx$$\n",
    "\n",
    "$$3\\int\\frac{du}{u}-2\\int\\frac{dv}{v} = 3ln|u| -2 ln|v|+C$$\n",
    "\n",
    "E por fim, basta substituir de volta u e v.\n",
    "\n",
    "$$\\int\\frac{x+3}{x^2-4x+3} = 3ln|x-3| -2 ln|x-1|+C$$"
   ]
  },
  {
   "cell_type": "code",
   "execution_count": 9,
   "metadata": {},
   "outputs": [
    {
     "data": {
      "text/latex": [
       "$\\displaystyle 3 \\log{\\left(x - 3 \\right)} - 2 \\log{\\left(x - 1 \\right)}$"
      ],
      "text/plain": [
       "3⋅log(x - 3) - 2⋅log(x - 1)"
      ]
     },
     "execution_count": 9,
     "metadata": {},
     "output_type": "execute_result"
    }
   ],
   "source": [
    "def f(x):\n",
    "    return ((x+3)/(x**2-4*x+3))\n",
    "\n",
    "integrate(f(x), x)"
   ]
  },
  {
   "cell_type": "markdown",
   "metadata": {},
   "source": [
    "**2º Caso:** Fatores do denominador lineares e de raízes iguais e múltiplas.\n",
    "\n",
    "Esse caso é bem semelhante ao anterior, porém ao invés de separarmos as raízes vamos repetir uma delas como denominador de A e a mesma elevada ao quadrado como denominador de B. E por fim calcular da mesma forma vista anteriormente.\n",
    "\n",
    "Exemplo 2.\n",
    "\n",
    "Para calcular a integral da função $$f(x) = \\frac{2x+5}{x^2-6x+9}$$ podemos fazer:\n",
    "\n",
    "$$\\frac{2x+5}{x^2-6x+9} = \\frac{2x+5}{(x-3)^2} = \\frac{A}{x-3} + \\frac{B}{(x-3)^2}$$\n",
    "\n",
    "$$2x+5 = (x-3)A + B$$\n",
    "\n",
    "$$\\left\\{ \\begin{array}{c}\n",
    "Ax = 2x \\\\\n",
    "-3A+B = 5\\\\\n",
    "\\end{array}\n",
    "\\right.\n",
    "$$\n",
    "\n",
    "Resolvendo o sistema temos:\n",
    "\n",
    "$$A = 2$$ e $$-3A+B = 5 \\rightarrow -3.2+B = 5 \\rightarrow B = 11$$\n",
    "\n",
    "$$\\frac{2x+5}{x^2-6x+9} = \\frac{2}{x-3} + \\frac{11}{(x-3)^2}$$\n",
    "\n",
    "$$\\int \\frac{2x+5}{x^2-6x+9} = 2\\int \\frac{dx}{x-3} + 11\\int \\frac{dx}{(x-3)^2}$$\n",
    "\n",
    "$$u = x-3, du = dx$$\n",
    "\n",
    "$$2\\int \\frac{dx}{u} + 11\\int \\frac{dx}{u^2}$$\n",
    "\n",
    "$$\\int \\frac{2x+5}{x^2-6x+9} = 2ln|x-3|-\\frac{11}{x-3}+C$$"
   ]
  },
  {
   "cell_type": "code",
   "execution_count": 8,
   "metadata": {},
   "outputs": [
    {
     "data": {
      "text/latex": [
       "$\\displaystyle 2 \\log{\\left(x - 3 \\right)} - \\frac{11}{x - 3}$"
      ],
      "text/plain": [
       "                 11 \n",
       "2⋅log(x - 3) - ─────\n",
       "               x - 3"
      ]
     },
     "execution_count": 8,
     "metadata": {},
     "output_type": "execute_result"
    }
   ],
   "source": [
    "def f(x):\n",
    "    return ((2*x+5)/(x**2-6*x+9))\n",
    "\n",
    "integrate(f(x), x)"
   ]
  },
  {
   "cell_type": "markdown",
   "metadata": {},
   "source": [
    "**3º Caso:** Fatores do denominador lineares e quadráticos irredutíveis.\n",
    "\n",
    "Quando isso acontecer, basta colocar a constante A dividindo o menor fator e um monômio dividindo o polinômio, e então calcular a partir do sistema linear.\n",
    "\n",
    "Exemplo 3.\n",
    "\n",
    "Vamos calcular a integral de $f(x) = \\frac{-3x+7}{x^3-4x^2+5x}$.\n",
    "\n",
    "Desmembrando em frações parciais temos:\n",
    "\n",
    "$$\\frac{-3x+7}{x^3-4x^2+5x} = \\frac{-3x+7}{x(x^2-4x+5} = \\frac{A}{x} + \\frac{Bx+C}{x^2-4x+5}$$\n",
    "\n",
    "$$-3x+7 = A(x^2-4x+5)+x(Bx+C)$$\n",
    "\n",
    "$$\\left\\{ \\begin{array}{c}\n",
    "Ax^2+Bx^2 = 0\\\\\n",
    "-4Ax+Cx = -3x\\\\\n",
    "5A = 7\\\\\n",
    "\\end{array}\n",
    "\\right.\n",
    "$$\n",
    "\n",
    "Resolvendo o mesmo chegamos a $A = \\frac{7}{5}, B = -\\frac{7}{5}$ e $C = \\frac{13}{5}$.\n",
    "\n",
    "Substuindo tudo na equação equivalente temos:\n",
    "\n",
    "$$\\int \\frac{-3x+7}{x^3-4x^2+5x} = \\int\\frac{7dx}{5x} + \\int \\frac{-\\frac{7}{5}x + \\frac{13}{5}}{x^2+4x+5}dx$$\n",
    "\n",
    "$$= \\int\\frac{7dx}{5x} + \\int \\frac{-7x + 13}{5(x^2+4x+5)}dx$$\n",
    "\n",
    "Vamos tentar simplificar o polinômio completanto os quadrados. Somando 1 e subtraindo 1 ao mesmo, podemos fazer:\n",
    "\n",
    "$$= \\int\\frac{7dx}{5x} + \\frac{1}{5}\\int \\frac{-7x + 13}{x^2+4x+5+1-1}dx$$\n",
    "$$= \\int\\frac{7dx}{5x} + \\frac{1}{5}\\int \\frac{-7x + 13}{x^2+4x+4+1}dx$$\n",
    "\n",
    "$$= \\int\\frac{7dx}{5x} + \\frac{1}{5}\\int \\frac{-7x + 13}{(x-2)^2+1}dx$$\n",
    "\n",
    "Agora vamos integrar a primeira parte:\n",
    "\n",
    "$$= \\frac{7ln|x|}{5} + \\frac{1}{5}\\int \\frac{-7x + 13}{(x-2)^2+1}dx$$\n",
    "\n",
    "Fazemos então uma substituição $u = x-2$, $du = dx$ e manipulando u, encontramos x como $x = u+2$.\n",
    "\n",
    "$$= \\frac{7ln|x|}{5} + \\frac{1}{5}\\int \\frac{-7(u+2) + 13}{u^2+1}du$$\n",
    "$$= \\frac{7ln|x|}{5} + \\frac{1}{5}\\int \\frac{-7u-14 + 13}{u^2+1}du$$\n",
    "$$= \\frac{7ln|x|}{5} + \\frac{1}{5}\\int \\frac{-7u -1}{u^2+1}du$$\n",
    "$$= \\frac{7ln|x|}{5} + \\frac{1}{5}\\left[\\int \\frac{-7u}{u^2+1}du - \\int \\frac{du}{u^2+1}du \\right]$$\n",
    "\n",
    "Substituindo $v = u^2+1, dv = 2udu$ chegamos a:\n",
    "\n",
    "$$= \\frac{7ln|x|}{5} + \\frac{1}{5}\\left[\\int \\frac{-7u}{u^2+1}du - \\int \\frac{du}{u^2+1}du \\right]$$\n",
    "$$= \\frac{7ln|x|}{5} + \\frac{1}{5}\\left[-\\frac{7}{2}\\int \\frac{dv}{v} - \\int \\frac{du}{u^2+1} \\right]$$\n",
    "$$= \\frac{7ln|x|}{5} + \\frac{1}{5}\\left[-\\frac{7}{2}ln|v| - arctg|u| \\right]+C$$\n",
    "\n",
    "Agora basta substituirmos v e u de volta:\n",
    "\n",
    "$$= \\frac{7ln|x|}{5} + \\frac{1}{5}\\left[-\\frac{7}{2}ln|u^2+1| - arctg|u| \\right]+C$$\n",
    "$$= \\frac{7ln|x|}{5} + \\frac{1}{5}\\left[-\\frac{7}{2}ln|(x-2)^2+1| - arctg|(x-2)| \\right]+C$$"
   ]
  },
  {
   "cell_type": "code",
   "execution_count": 7,
   "metadata": {},
   "outputs": [
    {
     "data": {
      "text/latex": [
       "$\\displaystyle \\frac{7 \\log{\\left(x \\right)}}{5} - \\frac{7 \\log{\\left(x^{2} - 4 x + 5 \\right)}}{10} - \\frac{\\operatorname{atan}{\\left(x - 2 \\right)}}{5}$"
      ],
      "text/plain": [
       "                ⎛ 2          ⎞              \n",
       "7⋅log(x)   7⋅log⎝x  - 4⋅x + 5⎠   atan(x - 2)\n",
       "──────── - ─────────────────── - ───────────\n",
       "   5                10                5     "
      ]
     },
     "execution_count": 7,
     "metadata": {},
     "output_type": "execute_result"
    }
   ],
   "source": [
    "def f(x):\n",
    "    return ((-3*x+7)/(x**3-4*x**2+5*x))\n",
    "\n",
    "integrate(f(x), x)"
   ]
  },
  {
   "cell_type": "markdown",
   "metadata": {},
   "source": [
    "**4º Caso:** Fatores do denominador lineares e quadráticos tais que os quadráticos se repetem.\n",
    "\n",
    "Esse caso é praticamente uma mistura dos casos 2 e 3. Onde colocamos o menor fator no denominado de A e colocamos cada o polinômio no denominador de um monômio aumentando as potências do mesmo em cada membro até a potência ser igual à do polinômio inicial.\n",
    "\n",
    "Como por exemplo, para se calcular a integral da função $f(x) = \\frac{-3x+7}{x(x^2-4x+5)^2}$ teríamos que fazer:\n",
    "\n",
    "$$\\frac{-3x+7}{x(x^2-4x+5)^2} = \\frac{A}{x} + \\frac{Bx + C}{x^2-4x+5} + \\frac{Dx + E}{(x^2-4x+5)^2}$$\n",
    "\n",
    "E então resolver utilizando o mesmo método utilizado até agora.\n"
   ]
  },
  {
   "cell_type": "code",
   "execution_count": 6,
   "metadata": {},
   "outputs": [
    {
     "data": {
      "text/latex": [
       "$\\displaystyle - \\frac{x - 9}{10 x^{2} - 40 x + 50} + \\frac{7 \\log{\\left(x \\right)}}{25} - \\frac{7 \\log{\\left(x^{2} - 4 x + 5 \\right)}}{50} + \\frac{23 \\operatorname{atan}{\\left(x - 2 \\right)}}{50}$"
      ],
      "text/plain": [
       "                                      ⎛ 2          ⎞                 \n",
       "        x - 9         7⋅log(x)   7⋅log⎝x  - 4⋅x + 5⎠   23⋅atan(x - 2)\n",
       "- ───────────────── + ──────── - ─────────────────── + ──────────────\n",
       "      2                  25               50                 50      \n",
       "  10⋅x  - 40⋅x + 50                                                  "
      ]
     },
     "execution_count": 6,
     "metadata": {},
     "output_type": "execute_result"
    }
   ],
   "source": [
    "def f(x):\n",
    "    return ((-3*x+7)/(x*(x**2-4*x+5)**2))\n",
    "\n",
    "integrate(f(x), x)"
   ]
  },
  {
   "cell_type": "markdown",
   "metadata": {},
   "source": [
    "## III. Introdução às funções de várias variáveis\n",
    "\n",
    "### A. Conceitos iniciais\n",
    "Nas disciplinas de cálculo estudadas até esse momento só trabalhamos com o cálculo de funções de uma variável, porém, o estudo de cálculo diferencial e integral se extende um pouco mais em relação ao número de variáveis trabalhadas.\n",
    "\n",
    "\n",
    "**Definição -**\n",
    "Uma função de várias variáveis é simplesmente uma associação de mais de um valor à outro em um domínio maior que o conjunto dos números reais. Ou seja, antes tinhamos por exemplo uma função $f(x) = x^2$, onde f(x) é também chamado de y, sendo determinado no eixo das Ordenadas, mas agora iremos associar uma função $f(x, y)$ à um valor representada pela associação de valores de x e y, onde a função agora é chamada de z e representada pelo eixo das Cotas. Claro que isso apenas para funções de duas variáveis.\n",
    "\n",
    "Façamos um exemplo prático:\n",
    "\n",
    "Dada a função $f(x, y) = x^2 + 3xy - y^3$, vamos calcular $f(1,2)$.\n",
    "\n",
    "\n",
    "$$f(1, 2) = 1^2 + 3.1.2 - 2^3 = 1 + 6 - 8 = -1$$"
   ]
  },
  {
   "cell_type": "code",
   "execution_count": 12,
   "metadata": {},
   "outputs": [
    {
     "data": {
      "image/png": "[encoded data removed]",
      "text/latex": [
       "$\\displaystyle -1$"
      ],
      "text/plain": [
       "-1"
      ]
     },
     "execution_count": 12,
     "metadata": {},
     "output_type": "execute_result"
    }
   ],
   "source": [
    "def f(a, b):\n",
    "    return (a**2+3*a*b-b**3)\n",
    "\n",
    "f(1, 2)"
   ]
  },
  {
   "cell_type": "markdown",
   "metadata": {},
   "source": [
    "### B. Domínio\n",
    "\n",
    "Outro ponto importante no cálculo das funções de várias variáveis é determinar e esboçar o domínio dessas funções. Mas como podemos fazer isso?\n",
    "\n",
    "Pense o seguinte, uma função de duas ou n variáveis tem o domínio em $\\mathbb{R}^2$ ou $\\mathbb{R}^n$, respectivamente, exceto em três casos:\n",
    "\n",
    "1. Dada uma função na qual apresenta uma raiz quadrada, o seu interior não pode resultar em um número negativo.\n",
    "2. Se a função contém uma fração, o seu denominador tem que ser diferente de 0.\n",
    "3. Caso apareça um logaritmo natural na função, o seu parâmetro deve ser maior ou igual a 0.\n",
    "\n",
    "Exemplo 1.\n",
    "\n",
    "Determine o domínio da função $f(x, y) = ln(x - 3y)$.\n",
    "\n",
    "Para definir o domínio façamos, $$x - 3y \\geq 0 → x \\geq 3y$$ então, $$D = \\{(x, y)|x \\geq 3y\\}$$\n",
    "\n",
    "Fazendo uma analise do gráfico do domínio de f(x, y) temos:\n",
    "\n",
    "![](Imagens/16.jpg)"
   ]
  },
  {
   "cell_type": "code",
   "execution_count": 11,
   "metadata": {},
   "outputs": [
    {
     "name": "stdout",
     "output_type": "stream",
     "text": [
      "x/3\n"
     ]
    },
    {
     "data": {
      "image/png": "[encoded data removed]",
      "text/plain": [
       "<Figure size 432x288 with 1 Axes>"
      ]
     },
     "metadata": {
      "needs_background": "light"
     },
     "output_type": "display_data"
    }
   ],
   "source": [
    "def f(x):\n",
    "    return (x/3)\n",
    "\n",
    "print(f(x))\n",
    "\n",
    "p1 = plot(f(x),(x,-5,5),show=False)\n",
    "p2 = plot_implicit(y<=f(x),(x,-5,5),(y,-5,5),show=False, line_color='yellow')\n",
    "p1.extend(p2)\n",
    "p1.show()"
   ]
  },
  {
   "cell_type": "markdown",
   "metadata": {},
   "source": [
    "Exemplo 2.\n",
    "\n",
    "Determine o domínio da função $f(x, y) = \\frac{x^2}{y + 2}$.\n",
    "\n",
    "Para definir o domínio façamos, $$y + 2 \\neq 0 → y \\neq -2$$ então, $$D = \\{(x, y)|y \\neq -2\\}$$\n",
    "\n",
    "Fazendo uma analise do gráfico do domínio de f(x, y) temos:\n",
    "\n",
    "![](Imagens/17.jpg)"
   ]
  },
  {
   "cell_type": "code",
   "execution_count": 10,
   "metadata": {},
   "outputs": [
    {
     "data": {
      "image/png": "[encoded data removed]",
      "text/plain": [
       "<Figure size 432x288 with 1 Axes>"
      ]
     },
     "metadata": {
      "needs_background": "light"
     },
     "output_type": "display_data"
    }
   ],
   "source": [
    "def f(x):\n",
    "    return (-2)\n",
    "\n",
    "p1 = plot(f(x),(x,-5,5),show=False)\n",
    "p2 = plot_implicit(y<f(x),(x,-5,5),(y,-5,5),show=False, line_color='yellow')\n",
    "p3 = plot_implicit(y>f(x),(x,-5,5),(y,-5,5),show=False, line_color='yellow')\n",
    "p1.extend(p2)\n",
    "p1.extend(p3)\n",
    "p1.show()"
   ]
  },
  {
   "cell_type": "markdown",
   "metadata": {},
   "source": [
    "Exemplo 3.\n",
    "\n",
    "Determine o domínio da função $f(x, y) = x - 2y + \\sqrt{x + y^2}$.\n",
    "\n",
    "Para definir o domínio façamos, $$x + y^2 \\geq 0 → x \\geq -y^2$$ então, $$D = \\{(x, y)|x \\geq -y^2\\}$$\n",
    "\n",
    "Fazendo uma analise do gráfico do domínio de f(x, y) temos:\n",
    "\n",
    "![](Imagens/18.jpg)"
   ]
  },
  {
   "cell_type": "code",
   "execution_count": 9,
   "metadata": {},
   "outputs": [
    {
     "data": {
      "image/png": "[encoded data removed]",
      "text/plain": [
       "<Figure size 432x288 with 1 Axes>"
      ]
     },
     "metadata": {
      "needs_background": "light"
     },
     "output_type": "display_data"
    }
   ],
   "source": [
    "def f(x):\n",
    "    return (sqrt(-x))\n",
    "\n",
    "def g(x):\n",
    "    return (-sqrt(-x))\n",
    "\n",
    "p1 = plot(f(x),(x,-5,5),show=False)\n",
    "p2 = plot(g(x),(x,-5,5),show=False)\n",
    "p3 = plot_implicit(y>=f(x),(x,-5,5),(y,-5,5),show=False, line_color='yellow')\n",
    "p4 = plot_implicit(y>=g(x),(x,-5,5),(y,-5,5),show=False, line_color='yellow')\n",
    "p1.extend(p2)\n",
    "p1.extend(p3)\n",
    "p1.extend(p4)\n",
    "p1.show()"
   ]
  },
  {
   "cell_type": "markdown",
   "metadata": {},
   "source": [
    "### C. Imagem\n",
    "\n",
    "Aqui estudamos um pouco os valores das quais a variável depende pode assumir, ou seja, em uma função f(x, y), que representamos por z, queremos saber quais os valores máximo e mínimo de z. Mas como fazer isso?\n",
    "\n",
    "Nessa situação, devemos ficar atentos ao surgimento de expoentes pares, raízes quadradas e exponenciações, isso porque em ambos a função só consegue assumir valores positivos.\n",
    "\n",
    "Exemplo 1.\n",
    "\n",
    "Determine a imagem da função $f(x, y) = e^x - 10$.\n",
    "\n",
    "Primeiramente, tomemos a função $e^x$ e, após uma análise, vemos que a mesma tem como imagem $[0, +\\infty]$, ou seja, $e^x \\geq 0$.\n",
    "\n",
    "Mas por outro lado, temos um -10 associado à função exponencial, o que extende o limite de f(x, y). Então podemos subtrair -10 dos dois lados da equação, tendo assim: $$e^x - 10 \\geq -10$$ ou seja, $$I = \\{z|-10 \\leq z \\leq +\\infty\\}$$.\n",
    "\n",
    "Fazendo uma analise do gráfico da imagem de f(x, y) temos:\n",
    "\n",
    "![](Imagens/19.jpg)\n",
    "\n",
    "Exemplo 2.\n",
    "\n",
    "Determine a imagem da função $f(x, y) = \\sqrt{2+x}$.\n",
    "\n",
    "Inicialmente, devemos observar que a função raiz quadrada também deve resultar em um número estritamente positivo, assim, já limitamos o intervalo de imagem para $[0, +\\infty]$, agora, analisemos o interior da raiz. Em $2+x$, podemos perceber que qualquer valor de x dentro do domínio da função é aceitável, ou seja, não há nenhum valor de $x \\geq 0$ que possa tornar inviável a operação da raiz. Assim sendo, temos como imageM de f(x, y): $$I = \\{z|0 \\leq z \\leq +\\infty\\}$$.\n",
    "\n",
    "Fazendo uma analise do gráfico da imagem de f(x, y) temos:\n",
    "\n",
    "![](Imagens/20.jpg)\n",
    "\n",
    "### D. Esboço de gráficos\n",
    "\n",
    "Agora iremos aprender algumas técnicas para esboçar o gráfico de funções de duas variáveis, tendo em vista que é o máximo que se pode ser representado geometricamente, já que o mesmo é esboçado no $\\mathbb{R}^3$.\n",
    "\n",
    "Para fazer esses esboços, quatro pontos que devem ser seguidos, e são os seguintes:\n",
    "\n",
    "Dada uma função f(x, y),\n",
    "\n",
    "1. Caso possível, manipule essa função para transformá-la em uma outra que o gráfico seja conhecido.\n",
    "2. Faça $x=0$ e tente plotar o gráfico entre os eixos y e z.\n",
    "3. Faça $y=0$ e tente plotar o gráfico entre os eixos x e z.    \\item Faça $z=0$ e tente plotar o gráfico entre os eixos x e y.\n",
    "4. Observe a função como um todo e repare na sua fórmula, associando-a a uma figura geométrica, e após isso, interpole entre os três eixos utilizando a figura observada.\n",
    "\n",
    "Façamos alguns exemplos.\n",
    "\n",
    "Exemplo 1.\n",
    "\n",
    "Esboce o gráfico da função $f(x, y) = 2x + 4y + 8$.\n",
    "\n",
    "Primeiro, verificamos que não há muita coisa para se manipular na função, vamos zerar o x. Então, $$z = 4y + 8$$ vamos desenhar o gráfico nos eixos y e z.\n",
    "\n",
    "![](Imagens/21.jpg)\n",
    "\n",
    "Agora vamos zerar o y. $$z = 2x + 8$$ vamos desenhar o gráfico nos eixos x e z.\n",
    "\n",
    "![](Imagens/22.jpg)\n",
    "\n",
    "Zerando o z, temos: $$2x + 4y + 8 = 0 → 2x + 4y = -8$$ $$→ 4y = -2x - 8 → y = \\frac{-2x - 8}{4}$$ $$→ y = -\\frac{2x}{4} - \\frac{8}{4} → y = -\\frac{x}{2} - 2$$\n",
    "\n",
    "Vamos desenhar o gráfico nos eixos x e y.\n",
    "\n",
    "![](Imagens/23.jpg)\n",
    "\n",
    "E por fim, vamos analisar a função como um todo. Pela equação, podemos notar que a figura geométrica representada é um plano, então basta interpolar o desenho com a figura nos três eixos.\n",
    "\n",
    "![](Imagens/24.jpg)\n",
    "![](Imagens/25.jpg)"
   ]
  },
  {
   "cell_type": "code",
   "execution_count": 7,
   "metadata": {},
   "outputs": [
    {
     "data": {
      "image/png": "[encoded data removed]",
      "text/plain": [
       "<Figure size 432x288 with 1 Axes>"
      ]
     },
     "metadata": {
      "needs_background": "light"
     },
     "output_type": "display_data"
    }
   ],
   "source": [
    "fig = pl.figure()\n",
    "ax = Axes3D(fig)\n",
    "X = np.arange( -4 , 4 , 0.25 )\n",
    "Y = np.arange( -4 , 4 , 0.25 )\n",
    "X , Y = np.meshgrid( X , Y )\n",
    "Z = 2*X+4*Y+8\n",
    "ax.plot_surface( X , Y , Z , rstride=1 , cstride=1 , cmap='hot' )\n",
    "pl.show()"
   ]
  },
  {
   "cell_type": "markdown",
   "metadata": {},
   "source": [
    "### E. Curvas de nível\n",
    "\n",
    "Uma outra técnica muito utilizada para representar graficamente uma função é o esboço a partir das curvas de nível, que tem como fundamentos a interseção do gráfico da função com um plano determinado por uma constante. Ou seja, basicamente, deve-se igualar a função à uma constante k. $$f(x, y) = k$$\n",
    "A partir do desenho de várias curvas de nível podemos determinar o gráfico da função fazendo uma interpolação entre as mesmas.\n",
    "\n",
    "Vejamos um exemplo para um melhor entendimento:\n",
    "\n",
    "Exemplo 1.\n",
    "\n",
    "Ache as curvas de nível da função $f(x, y) = 2x + 4y + 3$ para $k \\in \\{1, 3, 4, 7\\}$.\n",
    "\n",
    "Pela definição das curvas de nível devemos igualar f(x, y) às constantes dadas. Então: \n",
    "\n",
    "Para $k = 1$, temos:\n",
    "$$2x + 4y + 3 = 1 → 2x + 4y = -2 → y = -\\frac{1}{2} -\\frac{x}{2}$$\n",
    "\n",
    "Para $k = 3$, temos:\n",
    "$$2x + 4y + 3 = 3 → 2x + 4y = 0 → y = -\\frac{x}{2}$$\n",
    "\n",
    "Para $k = 4$, temos:\n",
    "$$2x + 4y + 3 = 4 → 2x + 4y = 1 → y = \\frac{1}{4} -\\frac{x}{2}$$\n",
    "\n",
    "Para $k = 7$, temos:\n",
    "$$2x + 4y + 3 = 7 → 2x + 4y = 4 → y = 1 -\\frac{x}{2}$$\n",
    "\n",
    "A partir das curvas encontradas, podemos agora plotar a sua projeção no plano xy.\n",
    "\n",
    "![](Imagens/26.jpg)\n",
    "\n",
    "Agora, a ideia é desenhar o gráfico de f(x, y) a partir dessas curvas. Para isso, podemos analisar que as constantes k se referem à altura de do gráfico no eixo z, ou seja, $k = 1$ é a mesma coisa que $z = 1$. Então, fazendo a interpolação das curvas do $\\mathbb{R}^2$ temos:"
   ]
  },
  {
   "cell_type": "code",
   "execution_count": 4,
   "metadata": {},
   "outputs": [
    {
     "data": {
      "image/png": "[encoded data removed]",
      "text/plain": [
       "<Figure size 432x288 with 1 Axes>"
      ]
     },
     "metadata": {
      "needs_background": "light"
     },
     "output_type": "display_data"
    }
   ],
   "source": [
    "def f1(x):\n",
    "    return (-1/2-x/2)\n",
    "\n",
    "def f2(x):\n",
    "    return (-x/2)\n",
    "\n",
    "def f3(x):\n",
    "    return (1/4-x/2)\n",
    "\n",
    "def f4(x):\n",
    "    return (1-x/2)\n",
    "\n",
    "p1 = plot(f1(x),(x,-5,5),show=False, line_color='orange')\n",
    "p2 = plot(f2(x),(x,-5,5),show=False, line_color='cyan')\n",
    "p3 = plot(f3(x),(x,-5,5),show=False, line_color='lawngreen')\n",
    "p4 = plot(f4(x),(x,-5,5),show=False, line_color='yellow')\n",
    "p1.extend(p2)\n",
    "p1.extend(p3)\n",
    "p1.extend(p4)\n",
    "p1.show()"
   ]
  },
  {
   "cell_type": "markdown",
   "metadata": {},
   "source": [
    "### F. Funções de três variáveis\n",
    "\n",
    "Uma função de três variáveis segue o mesmo princípio das funções vistas até então, porém agora um valor chamado $w$ é associado à outros 3 valores, representados pelas variáveis x, y e z. Ou seja, $$f(x, y, z) = w$$.\n",
    "\n",
    "Quando falamos sobre funções de duas variáveis vimos que o seu gráfico é representado por uma superfície. No caso das de três variáveis, o gráfico dessas funções é formado por um sólido, e ao invés de desenhá-los à partir de curvas de nível, utilizaremos agora superfícies de nível.\n",
    "\n",
    "As outras características como cálculo do domínio, imagem também se aplicam à essas funções.\n",
    "\n",
    "Exemplo 1.\n",
    "\n",
    "Ache o domínio da função $f(x, y, z) = \\frac{x+2}{z-1} + ln(x-2y)$.\n",
    "\n",
    "Partindo da mesma ideia de cáculo do domínio de funções de duas variáveis, temos que:\n",
    "\n",
    "$$z-1 \\neq 0 → z \\neq 1$$\n",
    "\n",
    "$$x-2y \\geq 0 → x \\geq 2y$$\n",
    "\n",
    "Então o domínio de $f$ fica definido como:\n",
    "\n",
    "$$D = \\{(x, y, z) \\in \\mathbb{R}^3|z \\neq 1, x \\geq 2y\\}$$\n",
    "\n",
    "E pode ser representado por:\n",
    "\n",
    "![](Imagens/27.jpg)\n",
    "\n",
    "Exemplo 2.\n",
    "\n",
    "Ache as curvas de nível da função $f(x, y, z) = (x-2)^2+(y-3)^2+z^2$, para $k \\in \\{4, 16, 25\\}$.\n",
    "\n",
    "Primeiro temos que analisar a equação da função. A partir daí, podemos perceber que a função representa uma esfera centrada em $(2, 3, 0)$.\n",
    "\n",
    "Calculando $f(x, y, z)$ para cada $k$, temos:\n",
    "\n",
    "$$(x-2)^2+(y-3)^2+z^2 = 4 = 2^2$$\n",
    "\n",
    "Que é representado por:\n",
    "\n",
    "![](Imagens/28.jpg)\n",
    "\n",
    "$$(x-2)^2+(y-3)^2+z^2 = 16 = 4^2$$\n",
    "\n",
    "Que é representado por:\n",
    "\n",
    "![](Imagens/29.jpg)\n",
    "\n",
    "$$(x-2)^2+(y-3)^2+z^2 = 25 = 5^2$$\n",
    "\n",
    "Que é representado por:\n",
    "\n",
    "![](Imagens/30.jpg)\n",
    "\n",
    "E por fim, temos respectivamente as superfícies esféricas de raio 2, 4 e 5, respectivamente.\n",
    "\n",
    "Que é representado por:\n",
    "\n",
    "![](Imagens/31.jpg)\n",
    "\n",
    "## IV. Limites e continuidade de funções de várias variáveis\n",
    "\n",
    "### A. Conceitos iniciais\n",
    "Agora iremos recaptular o estudo dos limites de uma função, visto lá no Cálculo I, com a intuição de ver o comportamento de uma função e se a mesma existe em um certo ponto do plano xy.\n",
    "\n",
    "**Definição -**\n",
    "Limite de uma função é basicamente um ponto para a qual a função está se aproximando de acordo com a aproximação das variáveis independentes em algum ponto do seu domínio.\n",
    "\n",
    "Então, dada uma função $f(x, y)$, o seu limite é calculado por $$\\lim_{(x, y) \\to (a, b)} f(x, y)$$\n",
    "\n",
    "onde $(a, b)$ é um ponto no domínio de $f(x, y)$, que nesse caso pertence ao $\\mathbb{R}^2$.\n",
    "\n",
    "Exemplo 1.\n",
    "\n",
    "Determine o limite de $f(x, y) = \\frac{x^2}{x+y}$.\n",
    "\n",
    "Façamos $$\\lim_{(x, y) \\to (0, 1)} \\frac{x^2}{x+y} = \\frac{0^2}{0+1} = 0$$.\n",
    "\n",
    "### B. Verificando a existência de limites\n",
    "\n",
    "Há uma certa peculiaridade em determinar se limites de funções de duas variáveis existem, fazendo com que se torne mais complexo do que o que acontece com as funções de uma variável.\n",
    "\n",
    "Vamos relembrar como o limite de uma função de uma variável era determinado.\n",
    "\n",
    "A partir do domínio da função e um ponto 'a' que utilizávamos para fazer o teste, tentamos aproximar x para valores próximos de 'a', tanto pela esquerda quanto pela direita, e caso os mesmos sejam iguais, o limite existe naquele ponto.\n",
    "\n",
    "O problema com as funções de duas variáveis é que não temos somente duas direções para testar (esquerda ou direita). Nesse caso, temos uma quantidade infinita de direções, já que aumentamos uma dimensão do domínio.\n",
    "\n",
    "Que é representado por:\n",
    "\n",
    "![](Imagens/32.jpg)\n",
    "\n",
    "Devido às infinitas soluções, é mais fácil descobrir se o limite não existe do que o contrário. Nesse caso, basta fazer o teste por algumas direções, e caso um deles seja diferente, o limite não existe.\n",
    "\n",
    "Exemplo 1.\n",
    "\n",
    "Determine a existência de $\\lim_{(x, y) \\to (0, 0)} \\frac{x}{x+y}$.\n",
    "\n",
    "Vamos testar o limite por alguns eixos.\n",
    "Primeiro, aproximando pelo eixo x, façamos somente y = 0.\n",
    "\n",
    "$$\\lim_{(x, y) \\to (x, 0)} \\frac{x}{x+y} = \\frac{x}{x} = 1$$\n",
    "\n",
    "Agora, aproximando pelo eixo y, façamos somente x = 0.\n",
    "\n",
    "$$\\lim_{(x, y) \\to (0, y)} \\frac{x}{x+y} = \\frac{0}{0+y} = 0$$\n",
    "\n",
    "Então, como o limite diverge em direções diferentes, o mesmo não existe.\n",
    "\n",
    "### C. Propriedades de limites\n",
    "\n",
    "Vamos relembrar um pouco das propriedades utilizadas no cálculo dos limites de funções de uma variável que também se aplicam à funções de 'n' variáveis.\n",
    "\n",
    "$$\\lim_{(x, y) \\to (a, b)} c = c$$\n",
    "$$\\lim_{(x, y) \\to (a, b)} (c.f(x, y)) = c .\\lim_{(x, y) \\to (a, b)} f(x, y)$$\n",
    "$$\\lim_{(x, y) \\to (a, b)} (f(x, y) \\pm g(x, y)) = \\lim_{(x, y) \\to (a, b)} f(x, y) \\pm \\lim_{(x, y) \\to (a, b)} g(x, y)$$\n",
    "$$\\lim_{(x, y) \\to (a, b)} (f(x, y).g(x, y)) = \\lim_{(x, y) \\to (a, b)} f(x, y).\\lim_{(x, y) \\to (a, b)} g(x, y)$$\n",
    "$$\\lim_{(x, y) \\to (a, b)} \\frac{f(x, y)}{g(x, y))} = \\frac{\\lim_{(x, y) \\to (a, b)} f(x, y)}{\\lim_{(x, y) \\to (a, b)} g(x, y)}$$\n",
    "$$\\lim_{(x, y) \\to (a, b)} f(g(x, y)) = f(\\lim_{(x, y) \\to (a, b)} g(x, y))$$\n",
    "\n",
    "E pelo teorema do sanduíche, temos:\n",
    "\n",
    "Se $$g(x, y) \\leq f(x, y) \\leq h(x, y)$$\n",
    "e $$\\lim_{(x, y) \\to (a, b)} g(x, y) = \\lim_{(x, y) \\to (a, b)} h(x, y) = L$$\n",
    "Então: $$\\lim_{(x, y) \\to (a, b)} f(x, y) = L$$\n",
    "\n",
    "### D. Continuidade\n",
    "\n",
    "A continuidade de limites de várias variáveis também não difere muito quando se comparada à de uma variável. Isso porque para descobrirmos isso, basta verificar se a função está definida em todos os pontos e se $$\\lim_{(x, y) \\to (a, b)} f(x, y) = f(a, b)$$.\n",
    "\n",
    "Exemplo 1.\n",
    "\n",
    "Determine se $f(x, y) = \\frac{1}{x+y}$ é contínua.\n",
    "\n",
    "Nesse caso, já podemos observar de cara que essa função é descontínua para $(x, y) = (0, 0)$, tendo em vista que aplicando os pontos teríamos $$\\lim_{(x, y) \\to (0, 0) \\frac{1}{x+y} = \\frac{1}{0}}$$ o que não existe.\n",
    "\n",
    "### E. Diferenciabilidade\n",
    "\n",
    "Toda função diferenciável tem duas características essenciais:\n",
    "\n",
    "1. Ter derivadas parciais nesse ponto.\n",
    "2. Ser contínua no ponto de diferenciação.\n",
    "\n",
    "\n",
    "Então, para se calcular a mesma, basta verificar se: $\\frac{\\partial f}{\\partial x}(a, b)$ e $\\frac{\\partial f}{\\partial y}(a, b)$ existem, e se o limite extendido da continuidade é igual à 0.\n",
    "\n",
    "$\\lim_{(x, y) \\to (a, b)} \\frac{f(x, y) - f(a, b) + f_x(a, b)(x-a)+f_y(a, b)(y-b)}{\\sqrt{(x-a)²+(y-b)²}} = 0$\n",
    "\n",
    "## V. Derivadas Parciais\n",
    "\n",
    "**Conceitos iniciais**  \n",
    "As funções de várias variáveis têm uma técnica especial para calcular suas derivadas, isso por que, não sabemos ao certo qual será a variável independente utilizada para realizar a operação, já que no caso de uma função $f(x, y)$ temos duas funções a se considerar.\n",
    "\n",
    "Então, como calculamos a derivada de uma função de várias variáveis?\n",
    "\n",
    "A resposta é bastante simples, basta calcular uma derivada para cada variável da função, tomando as outras subsequentes como constantes. Ou seja, uma função $f(x, y)$ tem duas derivadas, uma em função da variável x e outra de y. Daí o nome derivadas parciais.\n",
    "\n",
    "### A. Notação\n",
    "\n",
    "Dada uma função $f(x, y)$, suas derivadas são:\n",
    "\n",
    "$$f_x(x, y) = f_x = \\frac{\\partial f}{\\partial x}$$\n",
    "$$f_y(x, y) = f_y = \\frac{\\partial f}{\\partial y}$$\n",
    "\n",
    "Exemplo 1.\n",
    "\n",
    "Determine as derivadas parciais de $f(x, y) = 5x^2+2y+3$.\n",
    "\n",
    "Primeiro, vamos calcular a derivada em função de x, tratando assim, y como uma constante. Daí temos: $$f_x = (5x^2+2y+3)' = 5.2x+0+0 = 10x$$\n",
    "\n",
    "Agora calculando em função de y, temos:\n",
    "$$f_y = (5x^2+2y+3)' = 0+2+0 = 2$$"
   ]
  },
  {
   "cell_type": "code",
   "execution_count": 32,
   "metadata": {},
   "outputs": [
    {
     "data": {
      "text/latex": [
       "$\\displaystyle 10 x$"
      ],
      "text/plain": [
       "10⋅x"
      ]
     },
     "execution_count": 32,
     "metadata": {},
     "output_type": "execute_result"
    }
   ],
   "source": [
    "def f(x, y):\n",
    "    return (5*x**2+2*y+3)\n",
    "\n",
    "fx = diff(f(x, y), x)\n",
    "fy = diff(f(x, y), y)\n",
    "fx"
   ]
  },
  {
   "cell_type": "code",
   "execution_count": 33,
   "metadata": {},
   "outputs": [
    {
     "data": {
      "text/latex": [
       "$\\displaystyle 2$"
      ],
      "text/plain": [
       "2"
      ]
     },
     "execution_count": 33,
     "metadata": {},
     "output_type": "execute_result"
    }
   ],
   "source": [
    "fy"
   ]
  },
  {
   "cell_type": "markdown",
   "metadata": {},
   "source": [
    "Exemplo 2.\n",
    "\n",
    "Determine as derivadas parciais de $f(x, y, z) = cos(x) + sen(y) + 2z$.\n",
    "\n",
    "Calculando a derivada em função de x, temos: $$f_x = (cos(x) + sen(y) + 2z)' = -sen(x) + 0 + 0$$\n",
    "\n",
    "em função de y: $$f_y = (cos(x) + sen(y) + 2z)' = 0 + cos(y) + 0$$\n",
    "\n",
    "e por fim, em função de z: $$f_z = (cos(x) + sen(y) + 2z)' = 0 + 0 + 2$$\n",
    "\n",
    "### B. Interpretação geométrica das derivadas parciais\n",
    "\n",
    "No estudo das derivadas de funções de uma variável vimos que a derivada representava a inclinação da reta tangente à curva em um determinado ponto determinado por $(x, f(x))$. As derivadas parciais têm o mesmo princípio, ou seja, a derivada parcial de uma função de duas variáveis em relação à x nos retorna a inclinação da reta tangente à superfície que representa $f(x, y)$ paralela ao eixo x. Mas e com relação ao y, o que fazemos?\n",
    "\n",
    "Dado que y virou uma constante, a sua posição vai nos informar em que lugar do eixo a reta tangente ao gráfico vai ficar, ou \n",
    "seja, a projeção da mesma fica paralela ao eixo x e posicionada na direção de y.\n",
    "\n",
    "Representação da derivada parcial na direção de x:\n",
    "\n",
    "![](Imagens/33.jpg)\n",
    "\n",
    "Representação da derivada parcial na direção de y:\n",
    "\n",
    "![](Imagens/34.jpg)\n",
    "\n",
    "### C. Derivadas de ordem superior\n",
    "\n",
    "Da mesma forma que nas derivadas convencionais podemos aplicar a derivação mais de uma vez, nas parciais também temos essa liberdade, porém, com a diferença de que podemos fazer uma mistura com as derivações em função de x e de y.\n",
    "As mesmas são representadas da seguinte forma:\n",
    "\n",
    "$$f_{xx}(x, y) = f_{xx} = \\frac{\\partial^2 f}{\\partial^2 x}$$\n",
    "$$f_{yy}(x, y) = f_{yy} = \\frac{\\partial^2 f}{\\partial^2 y}$$\n",
    "$$f_{xy}(x, y) = f_{xy} = \\frac{\\partial^2 f}{\\partial x \\partial y}$$\n",
    "$$f_{yx}(x, y) = f_{yx} = \\frac{\\partial^2 f}{\\partial y \\partial x}$$\n",
    "\n",
    "**$f_{xx} →$** A derivada segunda de $f(x, y)$ em função de x.\n",
    "\n",
    "**$f_{yy} →$** A derivada segunda de $f(x, y)$ em função de y.\n",
    "\n",
    "**$f_{xy} →$** A derivada segunda de $f(x, y)$ primeiro em função de x e depois em função de y.\n",
    "\n",
    "**$f_{yx} →$** A derivada segunda de $f(x, y)$ primeiro em função de y e depois em função de x.\n",
    "\n",
    "E por fim, essa notação se mantém para 'n' derivações de f(x, y).\n",
    "\n",
    "**Obs.** Uma técnica para saber se o seu cálculo das derivadas parciais está correto é verificar se as derivadas parciais mistas estão iguais, ou seja, $$\\frac{\\partial^2 f}{\\partial x \\partial y} = \\frac{\\partial^2 f}{\\partial y \\partial x}$$\n",
    "\n",
    "Isso sempre irá acontecer, exceto se a função for descontínua em algum ponto.\n",
    "\n",
    "Exemplo 1.\n",
    "\n",
    "Determine $f_{xy}$ e $f_{yx}$ de $f(x, y) = 3x^6+5xy-4y^2$.\n",
    "\n",
    "Derivando f(x, y) em x e y respectivamente, temos:\n",
    "\n",
    "$$f_x = 3.6x^5+5y-0 = 18x^5+5y$$\n",
    "$$f_{xy} = 0 + 5 = 5$$\n",
    "\n",
    "\\noindent Agora em y e x:\n",
    "\n",
    "$$f_y = 0+5x-4.2y = 5x-8y$$\n",
    "$$f_{yx} = 5 - 0 = 5$$\n",
    "\n",
    "E podemos comprovar a igualdade das derivadas mistas."
   ]
  },
  {
   "cell_type": "code",
   "execution_count": 28,
   "metadata": {},
   "outputs": [
    {
     "data": {
      "text/latex": [
       "$\\displaystyle 18 x^{5} + 5 y$"
      ],
      "text/plain": [
       "    5      \n",
       "18⋅x  + 5⋅y"
      ]
     },
     "execution_count": 28,
     "metadata": {},
     "output_type": "execute_result"
    }
   ],
   "source": [
    "def f(x, y):\n",
    "    return (3*x**6+5*x*y-4*y**2)\n",
    "\n",
    "fx = diff(f(x, y), x)\n",
    "fy = diff(f(x, y), y)\n",
    "fx"
   ]
  },
  {
   "cell_type": "code",
   "execution_count": 29,
   "metadata": {},
   "outputs": [
    {
     "data": {
      "text/latex": [
       "$\\displaystyle 5 x - 8 y$"
      ],
      "text/plain": [
       "5⋅x - 8⋅y"
      ]
     },
     "execution_count": 29,
     "metadata": {},
     "output_type": "execute_result"
    }
   ],
   "source": [
    "fy"
   ]
  },
  {
   "cell_type": "code",
   "execution_count": 30,
   "metadata": {},
   "outputs": [
    {
     "data": {
      "text/latex": [
       "$\\displaystyle 5$"
      ],
      "text/plain": [
       "5"
      ]
     },
     "execution_count": 30,
     "metadata": {},
     "output_type": "execute_result"
    }
   ],
   "source": [
    "fxy = diff(fx, y)\n",
    "fyx = diff(fy, x)\n",
    "fxy"
   ]
  },
  {
   "cell_type": "code",
   "execution_count": 31,
   "metadata": {},
   "outputs": [
    {
     "data": {
      "text/latex": [
       "$\\displaystyle 5$"
      ],
      "text/plain": [
       "5"
      ]
     },
     "execution_count": 31,
     "metadata": {},
     "output_type": "execute_result"
    }
   ],
   "source": [
    "fyx"
   ]
  },
  {
   "cell_type": "markdown",
   "metadata": {},
   "source": [
    "Exemplo 2.\n",
    "\n",
    "Determine $f_{xxxx}$ da função $f(x, y) = x^2y^2 + cos(x) - 5y^3$.\n",
    "\n",
    "Derivando f(x, y) quatro vezes em função de x, temos:\n",
    "\n",
    "$$f_x = 2y^2x - sen(x) - 0$$\n",
    "$$f_{xx} = 2y^2 - cos(x)$$\n",
    "$$f_{xxx} = 0 + sen(x)$$\n",
    "$$f_{xxxx} = cos(x)$$\n",
    "\n",
    "### D. Plano Tangente\n",
    "\n",
    "Quando nós calculamos as derivadas parciais de uma função em um ponto (a, b) e fomos analisar a representação geométrica dessas primitivas, podemos notar que ambas resultaram em retas que faziam uma intersecção com o gráfico da função, onde sua projeção ficava paralela ao eixo da variável utilizada como dependente e o seu deslocamento no outro eixo variava de acordo com a posição dada no mesmo.\n",
    "\n",
    "O plano tangente utiliza dos mesmos princípios, só que nesse caso, utilizaremos as duas retas encontradas nas derivadas parciais, tal que as duas retas estão sobre esse plano.\n",
    "\n",
    "![](Imagens/35.jpg)\n",
    "\n",
    "Então, para determinar uma equação para esse plano tangente teremos que fazer uma associação da inclinação das retas encontradas como derivadas parciais, do ponto de intersecção entre essas retas e de uma equação de plano.\n",
    "\n",
    "Como todo plano em um certo ponto $(a, b, c)$ é formado pela equação, $$A(x-a) +B(x-b) +C(z-c) = 0$$ Basta fazermos algumas manipulações para colocar na equação do plano os requisitos mensionados antes.\n",
    "Então, dividindo essa equação por $-C$ ficamos com $- A/C(x-a) - B/C(x-b) + z-c = 0$. E por fim, $z-c=A/C(x-a) +B/C(x-b)$. E fazendo uma pequena observação, notamos que $A/C$ é a inclinação da reta tangente ao gráfico no eixo xz, assim como $B/C$ é a inclinação no eixo yz. Como essas inclinações podem ser calculadas a partir das derivadas parciais, ficamos então com $z-c = fx(a, b) (x-a) + fy(a, b) (y-b)$.\n",
    "\n",
    "Exemplo 1.\n",
    "\n",
    "Determine a equação do plano tangente à função $f(x, y) = 6-3x^2-y^2$ no ponto $P_0(2, 1, 4)$.\n",
    "\n",
    "Para isso, basta aplicar cada parte da equação que nós encontramos separadamente. Então achando $$f_x = - 6x$$ e $$f_y=-2y$$\n",
    "\n",
    "Aplicando os pontos:\n",
    "$$f_x(2, 1) = - 6.2 = -12$$ e $$f_y(2, 1)=-2.1 = -2$$\n",
    "\n",
    "E agora basta aplicar isso na equação do plano.\n",
    "\n",
    "$$z-4 = -12(x-2) -2(y-1) \\rightarrow z-4 = -12x +24 -2y +2$$\n",
    "$$12x + 2y + z = 24+2+4 \\rightarrow 12x + 2y + z = 30$$\n",
    "\n",
    "\n",
    "### E. Aproximações lineares\n",
    "\n",
    "A partir dessa equação do plano temos uma função que podemos utilizar como uma aproximação de $f(x, y)$ no ponto utilizado.\n",
    "\n",
    "Para isso, basta fazermos: $$z-c = fx(a, b) (x-a) + fy(a, b) (y-b)$$\n",
    "Como sendo, $$z=c + fx(a, b) (x-a) + fy(a, b) (y-b)$$\n",
    "E como $c = f(a, b)$, temos:\n",
    "$$z= f(a, b) + fx(a, b) (x-a) + fy(a, b) (y-b)$$.\n",
    "\n",
    "E a partir daí, podemos fazer:\n",
    "$$L(x, y) = f(a, b) + fx(a, b) (x-a) + fy(a, b) (y-b)$$ na qual L é chamada de ***função linear*** e $f(x, y) \\approx L(x, y)$ é a ***aproximação linear*** de $f(x, y)$ em um ponto. \n",
    "\n",
    "Exemplo 1.\n",
    "\n",
    "Dada a função $f(x, y) = 6-3x^2-y^2$ no ponto $P_0(2, 1, 4)$, determine a aproximação linear dessa função nos pontos $(1, 0)$, $(2, 3)$ e $(4, 2)$.\n",
    "\n",
    "Primeiro vamos calcular f(2, 1).\n",
    "\n",
    "$$f(2, 1) = 6-3.2^2-1^2 = 6-12-1 = -7$$\n",
    "\n",
    "Agora calcular $f_x$ e $f_y$ e aplicar nos pontos.\n",
    "\n",
    "$$f_x = -6x \\rightarrow f_x(2, 1) = -12$$\n",
    "$$f_y = -2y \\rightarrow f_y(2, 1) = -2$$\n",
    "\n",
    "E por fim, basta aplicar na equação da linearização, o que nos dá:\n",
    "\n",
    "$$L(x, y) = -7 -12(x-2) -2(y -1) = -7 -12x +24 -2y +2$$\n",
    "Então a linearização é: $L(x, y) = -12x -2y +19$.\n",
    "\n",
    "Para encontrar a aproximação linear de cada ponto basta aplicar cada par ordenado na função de linearização. Sendo assim, a aproximação de cada ponto fica:\n",
    "\n",
    "$$L(1, 0) = -12.1 -2.0 +19 = 7$$\n",
    "$$L(2, 3) = -12.2 -2.3+19 = -24-6+19 = -11$$\n",
    "$$L(4, 2) = -12.4 -2.2+19 = -48-4+19 = -33$$\n",
    "\n",
    "### F. Regra da Cadeia\n",
    "\n",
    "Como já sabemos, a regra da cadeia é uma técnica utilizada para se calcular as derivadas de funções compostas de funções de uma variável. No caso de funções de mais variáveis essa técnica também é utilizada, porém com uma pequena diferença, já que nessas funções as derivadas são calculadas parcialmente.\n",
    "\n",
    "Enfim, a fórmula utilizada para calcular a regra da cadeia é a seguinte:\n",
    "\n",
    "**1º CASO -** Funções compostas com apenas um parâmetro.\n",
    "\n",
    "Esse caso se refere à funções do tipo $z = f(g(t), h(t))$, e a derivada dessa função em relação à 't' é calculada por:\n",
    "\n",
    "$$\\frac{dz}{dt} = \\frac{\\partial f}{\\partial x}.\\frac{dx}{dt} + \\frac{\\partial f}{\\partial y}.\\frac{dy}{dt}$$\n",
    "\n",
    "**2º CASO -** Funções compostas com dois parâmetros.\n",
    "\n",
    "Esse caso se refere à funções do tipo $z = f(g(t, u), h(t, u))$, e a derivada dessa função em relação à 't' e 'u' é calculada por:\n",
    "\n",
    "$$\\frac{\\partial z}{\\partial t} = \\frac{\\partial f}{\\partial x}.\\frac{\\partial  x}{\\partial t} + \\frac{\\partial f}{\\partial y}.\\frac{\\partial y}{\\partial t}$$\n",
    "\n",
    "e\n",
    "$$\\frac{\\partial z}{\\partial u} = \\frac{\\partial f}{\\partial x}.\\frac{\\partial  x}{\\partial u} + \\frac{\\partial f}{\\partial y}.\\frac{\\partial y}{\\partial u}$$\n",
    "\n",
    "Aqui aparecem derivadas parciais devido às funções internas às compostas apresentarem duas variáveis.\n",
    "\n",
    "**CASO GENERALIZADO -** Funções compostas com N parâmetros.\n",
    "\n",
    "Observando os dois casos anteriores, podemos perceber uma certa semelhança entre as derivadas das duas funções dadas, por esse motivo podemos definir uma fórmula para se calcular as derivadas de qualquer função de composta de várias variáveis. \n",
    "\n",
    "Tais funções são calculadas da seguinte forma:\n",
    "\n",
    "Sendo $a = \\{a_1, a_2, ..., a_n\\}$ o conjunto com as variáveis da função dada e $t = \\{t_1, t_2, ..., t_v\\}$ o conjunto com os parâmetros de cada função.\n",
    "\n",
    "$$\\frac{\\partial f}{\\partial t_i} = \\frac{\\partial f}{\\partial a_1}.\\frac{\\partial  a_1}{\\partial t_i} + \\frac{\\partial f}{\\partial a_2}.\\frac{\\partial  a_2}{\\partial t_i} + ... +\\frac{\\partial f}{\\partial a_n}.\\frac{\\partial a_n}{\\partial t_i}$$\n",
    "\n",
    "Para cada $i \\in [0, v]$.\n",
    "\n",
    "Exemplo 1.\n",
    "\n",
    "Qual a derivada de $f(x, y) = 2x^3y+3xy^2$ tal que $x = x(t) = 2t^2, y = y(t) = t^3+2t$ e $t = 1$?\n",
    "\n",
    "Resolução:\n",
    "\n",
    "Primeiro vamos calcular x e y aplicando os pontos.\n",
    "\n",
    "$x(1) = 2$ e $y(1) = 1+2 = 3$\n",
    "\n",
    "Agora vamos calcular cada parte da equação separada e depois aplicar esse ponto.\n",
    "\n",
    "$$\\frac{\\partial f}{\\partial x} = 6x^2y+3y^2$$\n",
    "$$\\frac{\\partial f}{\\partial y} = 2x^3+6xy$$\n",
    "$$\\frac{dx}{dt} = 4t$$\n",
    "$$\\frac{dy}{dt}= 3t^2+2$$\n",
    "\n",
    "$$\\frac{\\partial f}{\\partial x}(2, 3) = 6.2^2.3+3.3^2=72+27=99$$\n",
    "$$\\frac{\\partial f}{\\partial y}(2, 3) = 2.2^3+6.2.3=16 + 48 = 64$$\n",
    "$$\\frac{dx}{dt}(1) = 4$$\n",
    "$$\\frac{dy}{dt}(1) = 3.1^2+2 = 5$$\n",
    "\n",
    "E por fim, aplicando tudo na equação final, temos:\n",
    "\n",
    "$$\\frac{df}{dt}(2, 3) = 99.4+64.5 = 716$$\n",
    "\n",
    "\n",
    "Exemplo 2.\n",
    "\n",
    "Dada a função $f(x, y) = x^3+2y^2-xy$, tal que $x = x(s, t) = s^2+t$ e $y = y(s, t) = 2t-s$, encontre as derivadas parciais $\\frac{\\partial f}{\\partial s}$ e $\\frac{\\partial f}{\\partial t}$.\n",
    "\n",
    "$$\\frac{\\partial f}{\\partial x} = 3x^2-y$$\n",
    "$$\\frac{\\partial f}{\\partial y} = 4y-x$$\n",
    "$$\\frac{\\partial x}{\\partial s} = 2s$$\n",
    "$$\\frac{\\partial y}{\\partial s} = -1$$\n",
    "\n",
    "$$\\frac{\\partial f}{\\partial x}(x, y) = 3(s^2+t)^2-(2t-s)$$\n",
    "$$\\frac{\\partial f}{\\partial y}(x, y) = 4(2t-s)-(s^2+t)$$\n",
    "$$\\frac{\\partial f}{\\partial s} = [3(s^2+t)^2-(2t-s)].2s+[4(2t-s)-(s^2+t)](-1)$$\n",
    "$$\\frac{\\partial f}{\\partial s} = 6s(s^2+t)^2-2s(2t-s)-4(2t-s)+(s^2+t)$$\n",
    "\n",
    "Agora para $\\frac{\\partial f}{\\partial t}$.\n",
    "\n",
    "$$\\frac{\\partial x}{\\partial t} = 1$$.\n",
    "$$\\frac{\\partial y}{\\partial t} = 2$$.\n",
    "$$\\frac{\\partial f}{\\partial t} = [3(s^2+t)^2-(2t-s)].1+[4(2t-s)-(s^2+t)]2$$\n",
    "$$\\frac{\\partial f}{\\partial t} = 3(s^2+t)^2-(2t-s)+8(2t-s)-2(s^2+t)$$\n",
    "\n",
    "### G. Derivação Implícita\n",
    "\n",
    "Quando uma função y está também em função de uma variável x, e queremos encontrar a derivada dessa função y, precisamos utilizar de uma técnica chamada de derivação implícita para fazer isso. Utilizando uma função $F(x, f(x)) = 0$, à partir de uma outra dada e a partir daí, aplicaremos a fórmula da regra da cadeia. $$\\frac{\\partial F}{\\partial x}.\\frac{dx}{dx}+\\frac{\\partial F}{\\partial y}.\\frac{dy}{dx} = 0$$\n",
    "\n",
    "Como $\\frac{dx}{dx} = 1$, para descobrirmos $\\frac{dy}{dx}$ basta fazer,  $$\\frac{dy}{dx} = -\\frac{\\frac{\\partial F}{\\partial x}}{\\frac{\\partial F}{\\partial y}} = - \\frac{F_x}{F_y}$$\n",
    "\n",
    "No caso de uma função de três variáveis, com $F(x, y, f(x, y)) = 0$, fazemos algumas manipulações e como derivadas implícitas, temos:\n",
    "$$\\frac{dz}{dx} = -\\frac{F_x}{F_z}$$\n",
    "e\n",
    "$$\\frac{dz}{dy} = -\\frac{F_y}{F_z}$$\n",
    "\n",
    "Agora, basta aplicar as fórmulas na função dada.\n",
    "\n",
    "Exemplo 1.\n",
    "\n",
    "Determine $\\frac{\\partial y}{\\partial x}$ para $6x^2+12y+3xy-x=4$.\n",
    "\n",
    "A resolução é bastante simples. Para isso basta encontrar $F_x$ e $F_y$ e aplicar na fórmula.\n",
    "\n",
    "$$F_x = 12x+3y-1$$\n",
    "$$F_y = 12+3x$$\n",
    "\n",
    "$$\\frac{\\partial y}{\\partial x} = -\\frac{F_x}{F_y} = - \\frac{12x+3y-1}{12+3x}$$"
   ]
  },
  {
   "cell_type": "code",
   "execution_count": 25,
   "metadata": {},
   "outputs": [
    {
     "data": {
      "text/latex": [
       "$\\displaystyle 12 x + 3 y - 1$"
      ],
      "text/plain": [
       "12⋅x + 3⋅y - 1"
      ]
     },
     "execution_count": 25,
     "metadata": {},
     "output_type": "execute_result"
    }
   ],
   "source": [
    "def f(x, y):\n",
    "    return (6*x**2+12*y+3*x*y-x-4)\n",
    "\n",
    "fx = diff(f(x, y), x)\n",
    "fy = diff(f(x, y), y)\n",
    "fx"
   ]
  },
  {
   "cell_type": "code",
   "execution_count": 26,
   "metadata": {},
   "outputs": [
    {
     "data": {
      "text/latex": [
       "$\\displaystyle 3 x + 12$"
      ],
      "text/plain": [
       "3⋅x + 12"
      ]
     },
     "execution_count": 26,
     "metadata": {},
     "output_type": "execute_result"
    }
   ],
   "source": [
    "fy"
   ]
  },
  {
   "cell_type": "code",
   "execution_count": 27,
   "metadata": {},
   "outputs": [
    {
     "data": {
      "text/latex": [
       "$\\displaystyle - \\frac{12 x + 3 y - 1}{3 x + 12}$"
      ],
      "text/plain": [
       "-(12⋅x + 3⋅y - 1) \n",
       "──────────────────\n",
       "     3⋅x + 12     "
      ]
     },
     "execution_count": 27,
     "metadata": {},
     "output_type": "execute_result"
    }
   ],
   "source": [
    "implicita = -(fx/fy)\n",
    "implicita"
   ]
  },
  {
   "cell_type": "markdown",
   "metadata": {},
   "source": [
    "Exemplo 2.\n",
    "\n",
    "Determine $\\frac{\\partial z}{\\partial x}$ e $\\frac{\\partial z}{\\partial y}$ para $3x^3+6y^4+4z+xyz = 2$\n",
    "\n",
    "$$F_x = 9x^2+yz$$\n",
    "$$F_y = 24y^3+xz$$\n",
    "$$F_z = 4+xy$$\n",
    "\n",
    "$$\\frac{\\partial z}{\\partial x} = -\\frac{F_x}{F_z} = -\\frac{9x^2+yz}{4+xy}$$\n",
    "$$\\frac{\\partial z}{\\partial y} = -\\frac{F_y}{F_z} = -\\frac{24y^3+xz}{4+xy}$$"
   ]
  },
  {
   "cell_type": "code",
   "execution_count": 24,
   "metadata": {},
   "outputs": [
    {
     "data": {
      "text/latex": [
       "$\\displaystyle 9 x^{2} + y z$"
      ],
      "text/plain": [
       "   2      \n",
       "9⋅x  + y⋅z"
      ]
     },
     "execution_count": 24,
     "metadata": {},
     "output_type": "execute_result"
    }
   ],
   "source": [
    "def f(x, y, z):\n",
    "    return (3*x**3+6*y**4+4*z+x*y*z-2)\n",
    "\n",
    "fx = diff(f(x, y, z), x)\n",
    "fy = diff(f(x, y, z), y)\n",
    "fz = diff(f(x, y, z), z)\n",
    "fx"
   ]
  },
  {
   "cell_type": "code",
   "execution_count": 20,
   "metadata": {},
   "outputs": [
    {
     "data": {
      "text/latex": [
       "$\\displaystyle x z + 24 y^{3}$"
      ],
      "text/plain": [
       "          3\n",
       "x⋅z + 24⋅y "
      ]
     },
     "execution_count": 20,
     "metadata": {},
     "output_type": "execute_result"
    }
   ],
   "source": [
    "fy"
   ]
  },
  {
   "cell_type": "code",
   "execution_count": 21,
   "metadata": {},
   "outputs": [
    {
     "data": {
      "text/latex": [
       "$\\displaystyle x y + 4$"
      ],
      "text/plain": [
       "x⋅y + 4"
      ]
     },
     "execution_count": 21,
     "metadata": {},
     "output_type": "execute_result"
    }
   ],
   "source": [
    "fz"
   ]
  },
  {
   "cell_type": "code",
   "execution_count": 22,
   "metadata": {},
   "outputs": [
    {
     "data": {
      "text/latex": [
       "$\\displaystyle - \\frac{9 x^{2} + y z}{x y + 4}$"
      ],
      "text/plain": [
       " ⎛   2      ⎞ \n",
       "-⎝9⋅x  + y⋅z⎠ \n",
       "──────────────\n",
       "   x⋅y + 4    "
      ]
     },
     "execution_count": 22,
     "metadata": {},
     "output_type": "execute_result"
    }
   ],
   "source": [
    "parcial_implicita_x = -(fx/fz)\n",
    "parcial_implicita_y = -(fy/fz)\n",
    "parcial_implicita_x"
   ]
  },
  {
   "cell_type": "code",
   "execution_count": 23,
   "metadata": {},
   "outputs": [
    {
     "data": {
      "text/latex": [
       "$\\displaystyle - \\frac{x z + 24 y^{3}}{x y + 4}$"
      ],
      "text/plain": [
       " ⎛          3⎞ \n",
       "-⎝x⋅z + 24⋅y ⎠ \n",
       "───────────────\n",
       "    x⋅y + 4    "
      ]
     },
     "execution_count": 23,
     "metadata": {},
     "output_type": "execute_result"
    }
   ],
   "source": [
    "parcial_implicita_y"
   ]
  },
  {
   "cell_type": "markdown",
   "metadata": {},
   "source": [
    "### H. Vetor Gradiente\n",
    "\n",
    "É um vetor calculado a partir das derivadas parciais de uma função de 'n' variáveis. A notação do mesmo é denotada como: $$\\nabla f(x_1, x_2, ..., x_n) = (f_{x1}, f_{x2}, ..., f_{xn})$$\n",
    "\n",
    "Uma característica muito relevante é o fato de que em funções de duas variáveis, o vetor gradiente é ortogonal às curvas de nível em um determinado ponto e no caso de três variáveis é ortogonal às superfícies de nível.\n",
    "\n",
    "![](Imagens/36.jpg)\n",
    "\n",
    "O termo gradiente refere-se à variação do crescimento da função, onde o mesmo sempre aponta para a direção onde a função cresce mais rápido.\n",
    "\n",
    "\n",
    "### I. Derivada direcional\n",
    "\n",
    "Quando nós calculamos as derivadas parciais $f_x$ e $f_y$ de uma função de duas variáveis, estamos calculando a derivada dessa função na direção dos eixos x e y, respectivamente, o que também pode ser entendido como o cálculo dessas derivadas na direção dos vetores $(1, 0)$ e $(0, 1)$.\n",
    "\n",
    "A questão é a seguinte, como eu poderia calcular a derivada de uma função de duas variáveis em uma direção qualquer? \n",
    "\n",
    "É para isso que a derivada direcional é utilizada. Para determinar a derivada dessas funções na dureção de um dado vetor.\n",
    "\n",
    "Há duas formas dde se calcular essa derivada. Primeiramente, como queremos somente a direção do nosso vetor dado, basta utilizar a sua projeção no plano xy.\n",
    "\n",
    "\n",
    "A partir daí, podemos notar que a direção desse vetor é dada pelo $cos(\\theta)$ e pelo $sen(\\theta)$.\n",
    "\n",
    "E então, podemos utilizar a fórmula: $$D_u(a, b) = f_x(a, b)cos(\\theta) + f_y(a, b)sen(\\theta)$$\n",
    "\n",
    "Onde $D_u$ é a derivada direcional da função no ponto $(a, b)$.\n",
    "\n",
    "A segunda forma de se calcular essa derivada é dada pela multiplicação do vetor gradiente com a normalização do vetor dado, ou seja: $$D_u(a, b) = \\nabla f(a, b).\\frac{v}{||v||}$$\n",
    "\n",
    "Exemplo 1.\n",
    "\n",
    "Calcule a derivada de $f(x, y) = 6x^2 +12y +3xy-x$ no ponto (2, 3) na direção de (4, 3).\n",
    "\n",
    "Primeiro vamos achar o vetor gradiente de f e aplicar no ponto.\n",
    "\n",
    "$$\\nabla f(x, y) = (12x+3y-1, 12+3x)$$\n",
    "$$\\nabla f(2, 3) = (12.2+3.3-1, 12+3.2) = (24+9-1, 12+6) = (32, 18)$$\n",
    "\n",
    "Agora devemos encontrar o módulo do vetor que usamos como direção.\n",
    "\n",
    "$$||v|| = \\sqrt{4^2+3^2} = \\sqrt{16+9} = \\sqrt{25} = 5$$\n",
    "\n",
    "Substituindo tudo na equação da $D_u$ temos:\n",
    "\n",
    "$$D_u = (32, 18).\\frac{(4, 3)}{5} = (32, 18).(\\frac{4}{5}, \\frac{3}{5}) = 32.\\frac{4}{5}+18.\\frac{3}{5} $$\n",
    "$$D_u = \\frac{128}{5}+\\frac{54}{5} = \\frac{182}{5}$$"
   ]
  },
  {
   "cell_type": "code",
   "execution_count": 18,
   "metadata": {},
   "outputs": [
    {
     "data": {
      "text/latex": [
       "$\\displaystyle \\frac{182}{5}$"
      ],
      "text/plain": [
       "182/5"
      ]
     },
     "execution_count": 18,
     "metadata": {},
     "output_type": "execute_result"
    }
   ],
   "source": [
    "def f(x, y):\n",
    "    return (6*x**2+12*y+3*x*y-x-4)\n",
    "\n",
    "fx = diff(f(x, y), x)\n",
    "fy = diff(f(x, y), y)\n",
    "gradiente = [fx, fy]\n",
    "gradiente = [32, 18]\n",
    "v = [4, 3]\n",
    "v_mod = sqrt(4**2+3**2)\n",
    "normalizacao = (1/v_mod)*np.array(v)\n",
    "Du = np.dot(gradiente, normalizacao)\n",
    "Du"
   ]
  },
  {
   "cell_type": "markdown",
   "metadata": {},
   "source": [
    "### J. Maximização da derivada direcional\n",
    "\n",
    "A maximização dessa derivada é basicamente a própria na direção em que a função cresce mais rápido. Mas como eu posso descobrir isso?\n",
    "\n",
    "Na verdade, é bastante simples, retomando as características do vetor gradiente, nós podemos notar que a função cresce mais rápido na direção do mesmo, então para maximizar a derivada direcional, basta calcular a mesma na direção do vetor gradiente. Ou seja: $$D_u(a, b) = \\nabla f(a, b).\\frac{\\nabla f(a, b)}{||\\nabla f(a, b)||}$$\n",
    "\n",
    "Exemplo 1.\n",
    "\n",
    "Maximize a derivada de $f(x, y) = 2x^6+3y^2-2xy$ no ponto (1, 2).\n",
    "\n",
    "Calculando o vetor gradiente e aplicando o ponto (1, 2).\n",
    "\n",
    "$$\\nabla f(x, y) = (12x^5-2y, 6y-2x)$$\n",
    "$$\\nabla f(1, 2) = (12.1^5-2.2, 6.2-2.1) = (12-4, 12-2) = (8, 10)$$\n",
    "\n",
    "Agora para maximizar basta calcular o módulo do vetor gradiente.\n",
    "\n",
    "$$||\\nabla f(1, 2)|| = \\sqrt{8^2+10^2} = \\sqrt{64+100} = \\sqrt{164}\\approx 12,8$$\n",
    "\n",
    "Substituindo tudo na equação chegamos a:\n",
    "\n",
    "$$D_u(1, 2) = (8, 10). \\frac{(8, 10)}{12,8} = (8, 10).(0.625, 0.781)$$\n",
    "$$D_u \\approx 8.0,625+10.0,781 \\approx 5+7,81 \\approx12,81$$"
   ]
  },
  {
   "cell_type": "code",
   "execution_count": 17,
   "metadata": {},
   "outputs": [
    {
     "data": {
      "text/latex": [
       "$\\displaystyle 2 \\sqrt{41}$"
      ],
      "text/plain": [
       "2⋅√41"
      ]
     },
     "execution_count": 17,
     "metadata": {},
     "output_type": "execute_result"
    }
   ],
   "source": [
    "def f(x, y):\n",
    "    return (2*x**6+3*y**2-2*x*y)\n",
    "\n",
    "fx = diff(f(x, y), x)\n",
    "fy = diff(f(x, y), y)\n",
    "gradiente = [fx, fy]\n",
    "gradiente = [8, 10]\n",
    "v = [8, 10]\n",
    "v_mod = sqrt(8**2+10**2)\n",
    "normalizacao = (1/v_mod)*np.array(v)\n",
    "Du = np.dot(gradiente, normalizacao)\n",
    "Du"
   ]
  },
  {
   "cell_type": "markdown",
   "metadata": {},
   "source": [
    "### K. Reta normal à uma superfície\n",
    "\n",
    "Quando calculamos o vetor gradiente de uma função, temos a ciência de que esse vetor é normal à uma superfície gerada pela mesma. Como poderíamos achar uma função que calculasse uma reta também normal à essa superfície?\n",
    "\n",
    "Para isso, basta utilizar dos conhecimentos pré-dispostos do cálculo vetorial, e associarmos uma equação da reta com um ponto dado e um vetor que seja normal também, para podermos direcionar a nossa reta.\n",
    "\n",
    "Sabemos que uma reta pode ser descrita como: $$r(t) = (a, b, c) + \\vec{v}t$$.\n",
    "\n",
    "Onde $(a, b, c)$ é o ponto dado e $\\vec{v}$ é o nosso vetor normal.\n",
    "\n",
    "Nós sabemos também, que uma das características do vetor gradiente é que o mesmo é normal à uma superfície de uma função de três variáveis, então como vetor $\\vec{v}$, utilizaremos o gradiente aplicado no ponto, então, a equação da nossa reta fica como sendo:\n",
    "$$r(t) = (a, b, c) + \\nabla f(a, b, c)t$$\n",
    "\n",
    "E a partir daí, podemos calcular a fórmula da nossa reta.\n",
    "\n",
    "Exemplo 1.\n",
    "\n",
    "Encontre a reta normal ao gráfico da função $f(x, y) = 4+3y-2x^2$ no ponto (2, 1, 0).\n",
    "\n",
    "Resolução:\n",
    "\n",
    "Para fazer isso vamos passar o f(x, y) como z para o outro lado da equação.\n",
    "\n",
    "$$F(x, y, z) = 2x^2-3y+z-4$$\n",
    "\n",
    "Agora devemos calcular o vetor gradiente de F e aplicar no ponto.\n",
    "\n",
    "$$\\nabla F(x, y, z) = (4x, -3, 1) \\rightarrow F(2, 1, 0) = (4.2, -3, 1) = (8, -3, 1)$$\n",
    "\n",
    "Assim encontramos o nosso vetor $\\vec{n}$.\n",
    "\n",
    "Montando a equação da reta temos:\n",
    "\n",
    "$$r(t) = (2, 1, 0) + \\vec{n}t = (2, 1, 0) + (8, -3, 1)t = (2+8t, 1-3t, t)$$."
   ]
  },
  {
   "cell_type": "code",
   "execution_count": 16,
   "metadata": {},
   "outputs": [
    {
     "data": {
      "text/plain": [
       "array([8*w + 2, 1 - 3*w, w], dtype=object)"
      ]
     },
     "execution_count": 16,
     "metadata": {},
     "output_type": "execute_result"
    }
   ],
   "source": [
    "def F(x, y, z):\n",
    "    return (2*x**2-3*y+z-4)\n",
    "\n",
    "fx = diff(F(x, y, z), x)\n",
    "fy = diff(F(x, y, z), y)\n",
    "fz = diff(F(x, y, z), z)\n",
    "gradiente = [fx, fy, fz]\n",
    "gradiente = [8, -3, 1]\n",
    "p = [2, 1, 0]\n",
    "w_gradiente = np.array(gradiente)*w\n",
    "r = np.add(p, w_gradiente)\n",
    "r"
   ]
  },
  {
   "cell_type": "markdown",
   "metadata": {},
   "source": [
    "## VI. Aplicações das Derivadas Parciais\n",
    "\n",
    "Este capítulo do livro aborda o conceito visto até então para uma única variável, a funcionalidade de se calcular uma derivada de uma função, porém agora, extendendo os nossos conceitos para um domínio em um espaço de dimensões maiores.\n",
    "\n",
    "### A. Pontos críticos de funções de várias variáveis\n",
    "\n",
    "**Definição -**  Quando estudamos os pontos críticos em funções de uma variável nós vimos que os mesmos eram pontos no Plano Cartesiano onde a derivada da função não existia ou se igualava à zero. Os pontos críticos de funções de várias variáveis são calculados da mesma forma, porém, nesse caso utilizamos as derivadas parciais da função, montando um sistema linear em seguida, para então descobrir os pontos.\n",
    "\n",
    "Exemplo 1.\n",
    "\n",
    "Dada uma função $f(x) = x^2 + 2x + 3y^2$, calcule os pontos críticos dessa função.\n",
    "\n",
    "Resolução:\n",
    "\n",
    "Como foi explicado anteriormente, para se calcular os pontos críticos dessa função vamos inicialmente calcular as suas derivadas parciais. Então:\n",
    "\n",
    "$$f_x = 2x+2$$ e $$f_y = 6y$$\n",
    "\n",
    "Agora, vamos igualar as duas à 0 e montar um sistema.\n",
    "\n",
    "$$\\left\\{ \\begin{array}{c}\n",
    "2x+2 = 0\\\\\n",
    "6y = 0\\\\\n",
    "\\end{array}\n",
    "\\right.$$\n",
    "\n",
    "Resolvendo o sistema chegamos a:\n",
    "\n",
    "$$\\left\\{ \\begin{array}{c}\n",
    "2x+2 = 0\\\\\n",
    "6y = 0\\\\\n",
    "\\end{array}\n",
    "\\right.\\rightarrow\n",
    "\\left\\{ \\begin{array}{c}\n",
    "x = -\\frac{2}{2}\\\\\n",
    "y = \\frac{0}{6}\\\\\n",
    "\\end{array}\n",
    "\\right.\\rightarrow\n",
    "\\left\\{ \\begin{array}{c}\n",
    "x = -1\\\\\n",
    "y = 0\\\\\n",
    "\\end{array}\n",
    "\\right.$$\n",
    "\n",
    "Então, nesse caso, o ponto crítico encontrado para a função $f(x) = x^2 + 2x + 3y^2$ foi $(-1, 0)$.\n",
    "\n",
    "Para confirmar, analisemos o gráfico da função:\n",
    "\n",
    "![](Imagens/37.jpg)\n"
   ]
  },
  {
   "cell_type": "code",
   "execution_count": 5,
   "metadata": {},
   "outputs": [
    {
     "data": {
      "image/png": "[encoded data removed]",
      "text/plain": [
       "<Figure size 432x288 with 1 Axes>"
      ]
     },
     "metadata": {
      "needs_background": "light"
     },
     "output_type": "display_data"
    }
   ],
   "source": [
    "import numpy as np\n",
    "import pylab as pl\n",
    "from mpl_toolkits.mplot3d import Axes3D\n",
    "fig = pl.figure()\n",
    "ax = Axes3D(fig)\n",
    "X = np.arange( -4 , 4 , 0.25 )\n",
    "Y = np.arange( -4 , 4 , 0.25 )\n",
    "X , Y = np.meshgrid( X , Y )\n",
    "Z = X**2+2*X+3*Y**2 \n",
    "ax.plot_surface( X , Y , Z , rstride=1 , cstride=1 , cmap='hot' )\n",
    "pl.show()"
   ]
  },
  {
   "cell_type": "code",
   "execution_count": 71,
   "metadata": {},
   "outputs": [
    {
     "data": {
      "text/latex": [
       "$\\displaystyle 2 x + 2$"
      ],
      "text/plain": [
       "2⋅x + 2"
      ]
     },
     "execution_count": 71,
     "metadata": {},
     "output_type": "execute_result"
    }
   ],
   "source": [
    "def f(x):\n",
    "    return (x**2+2*x+3*y**2)\n",
    "\n",
    "fx = diff(f(x), x)\n",
    "fy = diff(f(x), y)\n",
    "fx"
   ]
  },
  {
   "cell_type": "code",
   "execution_count": 8,
   "metadata": {},
   "outputs": [
    {
     "data": {
      "text/latex": [
       "$\\displaystyle 2 x + 2$"
      ],
      "text/plain": [
       "2*x + 2"
      ]
     },
     "execution_count": 8,
     "metadata": {},
     "output_type": "execute_result"
    }
   ],
   "source": [
    "from sympy import *\n",
    "x, y = symbols('x, y')\n",
    "def f(x):\n",
    "    return (x**2+2*x+3*y**2)\n",
    "fx = diff(f(x), x)\n",
    "fy = diff(f(x), y)\n",
    "fx"
   ]
  },
  {
   "cell_type": "code",
   "execution_count": 72,
   "metadata": {},
   "outputs": [
    {
     "data": {
      "text/latex": [
       "$\\displaystyle 6 y$"
      ],
      "text/plain": [
       "6⋅y"
      ]
     },
     "execution_count": 72,
     "metadata": {},
     "output_type": "execute_result"
    }
   ],
   "source": [
    "fy"
   ]
  },
  {
   "cell_type": "code",
   "execution_count": 73,
   "metadata": {},
   "outputs": [
    {
     "data": {
      "text/latex": [
       "$\\displaystyle \\left\\{ x : -1, \\  y : 0\\right\\}$"
      ],
      "text/plain": [
       "{x: -1, y: 0}"
      ]
     },
     "execution_count": 73,
     "metadata": {},
     "output_type": "execute_result"
    }
   ],
   "source": [
    "eq1 = Eq(fx, 0)\n",
    "eq2 = Eq(fy, 0)\n",
    "solve([eq1,eq2],(x,y))"
   ]
  },
  {
   "cell_type": "markdown",
   "metadata": {},
   "source": [
    "Exemplo 2.\n",
    "\n",
    "Calcule os pontos críticos da função $f(x) = y^3+2x^2+2xy$.\n",
    "\n",
    "Resolução:\n",
    "\n",
    "Calculando as derivadas parciais da função temos:\n",
    "\n",
    "$$f_x = 4x+2y$$ e $$f_y = 3y^2+2x$$\n",
    "\n",
    "Agora, montando e resolvendo o sistema:\n",
    "\n",
    "$$\\left\\{ \\begin{array}{c}\n",
    "4x+2y = 0\\\\\n",
    "3y^2+2x = 0\\\\\n",
    "\\end{array}\n",
    "\\right.\\rightarrow\n",
    "\\left\\{ \\begin{array}{c}\n",
    "4x +2y= 0\\\\\n",
    "3y^2 = -2x\\\\\n",
    "\\end{array}\n",
    "\\right.\\rightarrow\n",
    "\\left\\{ \\begin{array}{c}\n",
    "4x+2y = 0\\\\\n",
    "x = -\\frac{3y^2}{2}\\\\\n",
    "\\end{array}\n",
    "\\right.$$\n",
    "\n",
    "Onde nós encontramos o valor de x em função de y.\n",
    "\n",
    "Agora substituindo esse valor de x na primeira equação temos:\n",
    "\n",
    "$$\\left\\{ \\begin{array}{c}\n",
    "4\\left(-\\frac{3y^2}{2}\\right)+2y = 0\\\\\n",
    "x = -\\frac{3y^2}{2}\\\\\n",
    "\\end{array}\n",
    "\\right.\\rightarrow\n",
    "\\left\\{ \\begin{array}{c}\n",
    "-6y^2+2y = 0\\\\\n",
    "x = -\\frac{3y^2}{2}\\\\\n",
    "\\end{array}\n",
    "\\right.$$\n",
    "\n",
    "Resolvendo a primeira fórmula por Bháskara:\n",
    "\n",
    "$$-6y^2+2y = 0 \\rightarrow \\Delta = b^2-4ac = 2^2 - 4.(-6).0 = 4$$\n",
    "\n",
    "Calculando y' e y'':\n",
    "\n",
    "$$y' = \\frac{-b+\\sqrt{\\Delta}}{2a} = \\frac{-2+\\sqrt{4}}{2.(-6)} = \\frac{-2+2}{-12} = 0.$$\n",
    "e\n",
    "$$y'' = \\frac{-2-2}{-12} = \\frac{-4}{-12} = \\frac{1}{3}$$\n",
    "\n",
    "E agora, como achamos dois valores para y, vamos substituí-los na equação que encontramos para o x anteriormente para encontrar os pontos críticos.\n",
    "\n",
    "Para $y = 0$, temos: $$x = -\\frac{3.0²}{2} = 0$$\n",
    "E para $y = \\frac{1}{3}$, temos:\n",
    "$$x = -\\frac{3}{2}\\left(\\frac{1}{3}\\right)^2 = -\\frac{3}{2}.\\frac{1}{9} = -\\frac{3}{18} = -\\frac{1}{6}$$\n",
    "\n",
    "Então os pontos críticos encontrados para a função $f(x) = y^3+2x^2+2xy$ foram $(0, 0)$ e $(-\\frac{1}{6}, \\frac{1}{3})$"
   ]
  },
  {
   "cell_type": "code",
   "execution_count": 59,
   "metadata": {},
   "outputs": [
    {
     "data": {
      "text/latex": [
       "$\\displaystyle 4 x + 2 y$"
      ],
      "text/plain": [
       "4⋅x + 2⋅y"
      ]
     },
     "execution_count": 59,
     "metadata": {},
     "output_type": "execute_result"
    }
   ],
   "source": [
    "def f(x, y):\n",
    "    return (y**3+2*x**2+2*x*y)\n",
    "\n",
    "fx = diff(f(x, y), x)\n",
    "fy = diff(f(x, y), y)\n",
    "fx"
   ]
  },
  {
   "cell_type": "code",
   "execution_count": 52,
   "metadata": {
    "scrolled": true
   },
   "outputs": [
    {
     "data": {
      "text/latex": [
       "$\\displaystyle 2 x + 3 y^{2}$"
      ],
      "text/plain": [
       "         2\n",
       "2⋅x + 3⋅y "
      ]
     },
     "execution_count": 52,
     "metadata": {},
     "output_type": "execute_result"
    }
   ],
   "source": [
    "fy"
   ]
  },
  {
   "cell_type": "code",
   "execution_count": 53,
   "metadata": {},
   "outputs": [
    {
     "data": {
      "text/latex": [
       "$\\displaystyle \\left[ \\left( - \\frac{1}{6}, \\  \\frac{1}{3}\\right), \\  \\left( 0, \\  0\\right)\\right]$"
      ],
      "text/plain": [
       "[(-1/6, 1/3), (0, 0)]"
      ]
     },
     "execution_count": 53,
     "metadata": {},
     "output_type": "execute_result"
    }
   ],
   "source": [
    "eq1 = Eq(fx, 0)\n",
    "eq2 = Eq(fy, 0)\n",
    "solve([eq1,eq2],(x,y))"
   ]
  },
  {
   "cell_type": "markdown",
   "metadata": {},
   "source": [
    "### B. Máximos e mínimos locais de funções de duas variáveis\n",
    "\n",
    "Agora que sabemos calcular os pontos críticos de uma função, como podemos definir se os mesmos são pontos de máximo, mínimo ou inflexão?\n",
    "\n",
    "A resposta é simples. Calculando-se a derivada segunda da função.\n",
    "\n",
    "Porém você deve estar se perguntando como iremos fazer isso, sendo que, no caso de uma função de duas variáveis, por exemplo, temos quatro derivadas segundas parciais. Mas para fazermos isso também não há muita dificuldade, nós devemos calcular todas as derivadas segundas parciais no ponto crítico encontrado, colocá-las em uma matriz e calcular o seu determinante, tal que a matriz chamada Hessiana tenha a forma:\n",
    "\n",
    "$$\\left[\n",
    "\\begin{array}{c c}\n",
    "f_{xx} & f_{xy}\\\\\n",
    "f_{yx} & f_{yy}\\\\\n",
    "\\end{array}\\right]\n",
    "$$\n",
    "\n",
    "**Obs.** Lembre-se sempre de que o cálculo do determinante deve ser feito aplicando o ponto crítico nas derivadas.\n",
    "\n",
    "Agora, para definir de fato qual é o tipo do ponto crítico, temos as seguintes classificações:\n",
    "\n",
    "Para A(p) sendo o determinante da Matriz Hessiana no ponto, temos:\n",
    "\n",
    "Caso $A(p) > 0$:\n",
    "1. Se $f_{xx}(p) > 0$ o ponto crítico é de máximo. \n",
    "2. Se $f_{xx}(p) < 0$ o ponto crítico é de mínimo. \n",
    "\n",
    "Caso $A(p) < 0$:\n",
    "\n",
    "A função não tem máximo nem mínimo naquele ponto.\n",
    "\n",
    "Caso $A(p) = 0$:\n",
    "\n",
    "Não se pode afirmar nada sobre o ponto crítico.\n",
    "\n",
    "Exemplo 1.\n",
    "\n",
    "Utilizando os pontos críticos encontrados na seção anterior $(0, 0)$ e $(-\\frac{1}{6}, \\frac{1}{3})$ para a função $f(x) = y^3+2x^2+2xy$, classifique os mesmos como máximo ou mínimo.\n",
    "\n",
    "Primeiro vamos calcular as derivadas parciais segundas de cada função:\n",
    "\n",
    "Como já havíamos calculado anteriormente, as derivadas de $1^a$ ordem são:\n",
    "\n",
    "$$f_x = 4x+2y$$ e $$f_y = 3y^2+2x$$\n",
    "\n",
    "E então, as derivadas segundas são:\n",
    "\n",
    "$$f_{xx} = 4$$ $$f_{yy} = 6y$$ $$f_{xy} = 2$$ $$f_{yx} = 2$$\n",
    "\n",
    "Vamos aplicar agora essas derivadas no ponto (0, 0).\n",
    "\n",
    "$$f_{xx}(0, 0) = 4$$ $$f_{yy}(0, 0) = 0$$ $$f_{xy}(0, 0) = 2$$ $$f_{yx}(0, 0) = 2$$\n",
    "\n",
    "Montando a Matriz Hessiana e calculando o seu determinante chegamos a:\n",
    "\n",
    "$$\\left[\n",
    "\\begin{array}{c c}\n",
    "f_{xx} & f_{xy}\\\\\n",
    "f_{yx} & f_{yy}\\\\\n",
    "\\end{array}\\right]\\rightarrow\n",
    "\\left[\\begin{array}{c c}\n",
    "4 & 2\\\\\n",
    "2 & 0\\\\\n",
    "\\end{array}\\right]\\\n",
    "$$\n",
    "\n",
    "$$A(0, 0) = 4.0-2.2 = 0-4 = -4.$$\n",
    "\n",
    "Como o valor de A deu menor que 0, o ponto não é de máximo nem de mínimo.\n",
    "\n",
    "Fazendo o teste para o ponto $(-\\frac{1}{6}, \\frac{1}{3})$.\n",
    "\n",
    "$$f_{xx}\\left(-\\frac{1}{6}, \\frac{1}{3}\\right) = 4$$ $$f_{yy}\\left(-\\frac{1}{6}, \\frac{1}{3}\\right) = 2$$ $$f_{xy}\\left(-\\frac{1}{6}, \\frac{1}{3}\\right) = 2$$ $$f_{yx}\\left(-\\frac{1}{6}, \\frac{1}{3}\\right) = 2$$\n",
    "\n",
    "Montando a Matriz Hessiana e calculando o seu determinante chegamos a:\n",
    "\n",
    "$$\\left[\n",
    "\\begin{array}{c c}\n",
    "f_{xx} & f_{xy}\\\\\n",
    "f_{yx} & f_{yy}\\\\\n",
    "\\end{array}\\right]\\rightarrow\n",
    "\\left[\\begin{array}{c c}\n",
    "4 & 2\\\\\n",
    "2 & 2\\\\\n",
    "\\end{array}\\right]\\\n",
    "$$\n",
    "\n",
    "$$A(0, 0) = 4.2-2.2 = 8-4 = 4.$$\n",
    "\n",
    "Nesse caso o valor de a foi maior que 0, então já sabemos que é ponto de máximo ou de mínimo. Para definir qual dos dois é basta vermos se $f_{xx}\\left(-\\frac{1}{6}, \\frac{1}{3}\\right)$ é maior ou menor que 0. Como $f_{xx}\\left(-\\frac{1}{6}, \\frac{1}{3}\\right) = 0$ temos que esse ponto é um ponto de mínimo."
   ]
  },
  {
   "cell_type": "code",
   "execution_count": 66,
   "metadata": {},
   "outputs": [],
   "source": [
    "fxx = diff(fx, x)\n",
    "fyy = diff(fy, y)\n",
    "fxy = diff(fx, y)\n",
    "fyx = diff(fy, x)\n",
    "\n",
    "fyy = 0"
   ]
  },
  {
   "cell_type": "code",
   "execution_count": 67,
   "metadata": {},
   "outputs": [
    {
     "data": {
      "text/plain": [
       "array([[4, 2],\n",
       "       [2, 0]])"
      ]
     },
     "execution_count": 67,
     "metadata": {},
     "output_type": "execute_result"
    }
   ],
   "source": [
    "matriz = np.array(((fxx, fxy), (fyx, fyy)), dtype='int')\n",
    "matriz"
   ]
  },
  {
   "cell_type": "code",
   "execution_count": 68,
   "metadata": {},
   "outputs": [
    {
     "data": {
      "text/latex": [
       "$\\displaystyle -4.0$"
      ],
      "text/plain": [
       "-4.0"
      ]
     },
     "execution_count": 68,
     "metadata": {},
     "output_type": "execute_result"
    }
   ],
   "source": [
    "np.linalg.det(matriz)"
   ]
  },
  {
   "cell_type": "code",
   "execution_count": 69,
   "metadata": {},
   "outputs": [
    {
     "data": {
      "text/plain": [
       "array([[4, 2],\n",
       "       [2, 2]])"
      ]
     },
     "execution_count": 69,
     "metadata": {},
     "output_type": "execute_result"
    }
   ],
   "source": [
    "fyy = 2\n",
    "matriz = np.array(((fxx, fxy), (fyx, fyy)), dtype='int')\n",
    "matriz"
   ]
  },
  {
   "cell_type": "code",
   "execution_count": 70,
   "metadata": {},
   "outputs": [
    {
     "data": {
      "text/latex": [
       "$\\displaystyle 4.0$"
      ],
      "text/plain": [
       "4.0"
      ]
     },
     "execution_count": 70,
     "metadata": {},
     "output_type": "execute_result"
    }
   ],
   "source": [
    "np.linalg.det(matriz)"
   ]
  },
  {
   "cell_type": "markdown",
   "metadata": {},
   "source": [
    "### C. Máximos e mínimos de funções de três variáveis\n",
    "\n",
    "Essa seção foi separada da anterior devido à o cálculo da mesma não ser tão simples quanto para duas variáveis, isso por que, para definirmos se os pontos críticos são de máximo ou de mínimo, nós teremos que usar um conceito visto lá na Álgebra Linear. Os chamados Autovalores.\n",
    "\n",
    "Basicamente, os princípios são os mesmos, ou seja, dada uma função de três variáveis, calcula-se as derivadas das mesmas, monta-se um sistema e descobre os valores de x, y e z, formando então os pontos críticos. Após isso, para fazer a classificação dos pontos, monta-se a Matriz Hessiana e calcular o determinante da subtração da mesma pela matriz identidade de autovalores igualada à 0. Caso todos os autovalores dessa operação sejam positivos, o ponto crítico é de mínimo, caso todos sejam negativos, de máximo, e caso apareçam tanto positivos quanto negativos é o chamado ponto de sela.\n",
    "\n",
    "Nesse caso, a Matriz Hessiana é:\n",
    "\n",
    "$$A = \\left[\n",
    "\\begin{array}{c c c}\n",
    "f_{xx} & f_{xy} & f_{xz}\\\\\n",
    "f_{yx} & f_{yy} & f_{yz}\\\\\n",
    "f_{zx} & f_{zy} & f_{zz}\\\\\n",
    "\\end{array}\\right]\n",
    "$$\n",
    "\n",
    "A matriz de autovalores é:\n",
    "\n",
    "$$\\left[\n",
    "\\begin{array}{c c c}\n",
    "\\lambda & 0 & 0\\\\\n",
    "0 & \\lambda & 0\\\\\n",
    "0 & 0 & \\lambda\\\\\n",
    "\\end{array}\\right]\n",
    "$$\n",
    "\n",
    "Exemplo 1.\n",
    "\n",
    "Determine os pontos críticos da função $f(x, y, z) = 2x^2+y^3-4z^2+3x-12y$ e classifique cada um como máximo, mínimo ou sela.\n",
    "\n",
    "Resolução:\n",
    "\n",
    "Primeiro, vamos calcular as derivadas parciais da função.\n",
    "\n",
    "$$\\left\\{ \\begin{array}{c}\n",
    "f_x = 4x+3\\\\\n",
    "f_y = 3y^2-12\\\\\n",
    "f_z = -8z\\\\\n",
    "\\end{array}\n",
    "\\right.$$\n",
    "\n",
    "Resolvendo esse sistema chegamos a:\n",
    "\n",
    "$$\\left\\{ \\begin{array}{c}\n",
    "4x+3 = 0\\\\\n",
    "3y^2-12 = 0\\\\\n",
    "-8z = 0\\\\\n",
    "\\end{array}\n",
    "\\right. \\rightarrow \n",
    "\\left\\{ \\begin{array}{c}\n",
    "x = -\\frac{3}{4}\\\\\n",
    "y^2 = \\frac{12}{3} \\rightarrow y = \\sqrt{4} = 2\\\\\n",
    "z = 0\\\\\n",
    "\\end{array}\n",
    "\\right. \n",
    "$$\n",
    "\n",
    "Assim encontramos dois pontos críticos $p_0 = (-\\frac{3}{4}, -2, 0)$ e $p_1 = (-\\frac{3}{4}, 2, 0)$.\n",
    "\n",
    "Calculando as derivadas parciais segundas no ponto $p_0$ temos:\n",
    "\n",
    "$$\\begin{array}{c c c}\n",
    "f_{xx}(-\\frac{3}{4}, -2, 0) = 4 &  f_{xy}(-\\frac{3}{4}, -2, 0) = 0 & f_{xz}(-\\frac{3}{4}, -2, 0) = 0\\\\\n",
    "f_{yx}(-\\frac{3}{4}, -2, 0) = 0 &  f_{yy}(-\\frac{3}{4}, -2, 0) = 6.(-2) & f_{yz}(-\\frac{3}{4}, -2, 0) = 0\\\\\n",
    "f_{zx}(-\\frac{3}{4}, -2, 0) = 0 &  f_{zy}(-\\frac{3}{4}, -2, 0) = 0 & f_{zz}(-\\frac{3}{4}, -2, 0) = -8\\end{array}\n",
    "$$\n",
    "\n",
    "$$A(p) = \\left[\\begin{array}{c c c}\n",
    "4 &  0 & 0\\\\\n",
    "0 &  -12 & 0\\\\\n",
    "0 &  0 & -8\\end{array}\\right]\n",
    "$$\n",
    "\n",
    "Agora devemos calcular o determinante dessa matriz A subtraindo-a da matriz identidade de autovalores.\n",
    "\n",
    "$$det \\left(\\left[\\begin{array}{c c c}\n",
    "4 &  0 & 0\\\\\n",
    "0 &  -12 & 0\\\\\n",
    "0 &  0 & -8\\end{array}\\right] -\n",
    "\\left[\\begin{array}{c c c}\n",
    "\\lambda &  0 & 0\\\\\n",
    "0 &  \\lambda & 0\\\\\n",
    "0 &  0 & \\lambda\\end{array}\\right]\n",
    "\\right) = 0\n",
    "$$\n",
    "$$det \\left(\\left[\\begin{array}{c c c}\n",
    "4-\\lambda &  0 & 0\\\\\n",
    "0 &  -12-\\lambda & 0\\\\\n",
    "0 &  0 & -8-\\lambda \\end{array}\\right]\\right) = 0\n",
    "$$\n",
    "\n",
    "$$(4-\\lambda)(-12-\\lambda)(-8-\\lambda) = 0$$\n",
    "\n",
    "Nesse caso, para a expressão ser satisfeita, teríamos que ter $\\lambda = 4$, $\\lambda = -12$ ou $\\lambda = -8$.\n",
    "\n",
    "Então como tivemos autovalores positivos e negativos o ponto $p_0$ é ponto de sela.\n",
    "\n",
    "Calculando as derivadas parciais segundas no ponto $p_1$ temos:\n",
    "\n",
    "$$\\begin{array}{c c c}\n",
    "f_{xx} = 4 &  f_{xy} = 0 & f_{xz} = 0\\\\\n",
    "f_{yx} = 0 &  f_{yy} = 6y & f_{yz} = 0\\\\\n",
    "f_{zx} = 0 &  f_{zy} = 0 & f_{zz} = -8\\end{array}\n",
    "$$\n",
    "\n",
    "$$\\begin{array}{c c c}\n",
    "f_{xx}(-\\frac{3}{4}, 2, 0) = 4 &  f_{xy}(-\\frac{3}{4}, 2, 0) = 0 & f_{xz}(-\\frac{3}{4}, 2, 0) = 0\\\\\n",
    "f_{yx}(-\\frac{3}{4}, 2, 0) = 0 &  f_{yy}(-\\frac{3}{4}, 2, 0) = 6.2 & f_{yz}(-\\frac{3}{4}, 2, 0) = 0\\\\\n",
    "f_{zx}(-\\frac{3}{4}, 2, 0) = 0 &  f_{zy}(-\\frac{3}{4}, 2, 0) = 0 & f_{zz}(-\\frac{3}{4}, 2, 0) = -8\\end{array}\n",
    "$$\n",
    "\n",
    "$$A(p) = \\left[\\begin{array}{c c c}\n",
    "4 &  0 & 0\\\\\n",
    "0 &  12 & 0\\\\\n",
    "0 &  0 & -8\\end{array}\\right]\n",
    "$$\n",
    "\n",
    "Agora devemos calcular o determinante dessa matriz A subtraindo-a da matriz identidade de autovalores.\n",
    "\n",
    "$$det \\left(\\left[\\begin{array}{c c c}\n",
    "4 &  0 & 0\\\\\n",
    "0 &  12 & 0\\\\\n",
    "0 &  0 & -8\\end{array}\\right] -\n",
    "\\left[\\begin{array}{c c c}\n",
    "\\lambda &  0 & 0\\\\\n",
    "0 &  \\lambda & 0\\\\\n",
    "0 &  0 & \\lambda\\end{array}\\right]\n",
    "\\right) = 0\n",
    "$$\n",
    "$$det \\left(\\left[\\begin{array}{c c c}\n",
    "4-\\lambda &  0 & 0\\\\\n",
    "0 &  12-\\lambda & 0\\\\\n",
    "0 &  0 & -8-\\lambda \\end{array}\\right]\\right) = 0\n",
    "$$\n",
    "\n",
    "$$(4-\\lambda)(12-\\lambda)(-8-\\lambda) = 0$$\n",
    "\n",
    "Nesse caso, para a expressão ser satisfeita, teríamos que ter $\\lambda = 4$, $\\lambda = 12$ ou $\\lambda = -8$.\n",
    "\n",
    "Então como tivemos autovalores positivos e negativos o ponto $p_1$ é ponto de sela."
   ]
  },
  {
   "cell_type": "code",
   "execution_count": 40,
   "metadata": {},
   "outputs": [
    {
     "data": {
      "text/latex": [
       "$\\displaystyle 4 x + 3$"
      ],
      "text/plain": [
       "4⋅x + 3"
      ]
     },
     "execution_count": 40,
     "metadata": {},
     "output_type": "execute_result"
    }
   ],
   "source": [
    "def f(x, y, z):\n",
    "    return (2*x**2+y**3-4*z**2+3*x-12*y)\n",
    "\n",
    "fx = diff(f(x, y, z), x)\n",
    "fy = diff(f(x, y, z), y)\n",
    "fz = diff(f(x, y, z), z)\n",
    "fx"
   ]
  },
  {
   "cell_type": "code",
   "execution_count": 37,
   "metadata": {},
   "outputs": [
    {
     "data": {
      "text/latex": [
       "$\\displaystyle 2 x$"
      ],
      "text/plain": [
       "2⋅x"
      ]
     },
     "execution_count": 37,
     "metadata": {},
     "output_type": "execute_result"
    }
   ],
   "source": [
    "fx"
   ]
  },
  {
   "cell_type": "code",
   "execution_count": 41,
   "metadata": {},
   "outputs": [
    {
     "data": {
      "text/latex": [
       "$\\displaystyle 3 y^{2} - 12$"
      ],
      "text/plain": [
       "   2     \n",
       "3⋅y  - 12"
      ]
     },
     "execution_count": 41,
     "metadata": {},
     "output_type": "execute_result"
    }
   ],
   "source": [
    "fy"
   ]
  },
  {
   "cell_type": "code",
   "execution_count": 42,
   "metadata": {},
   "outputs": [
    {
     "data": {
      "text/latex": [
       "$\\displaystyle - 8 z$"
      ],
      "text/plain": [
       "-8⋅z"
      ]
     },
     "execution_count": 42,
     "metadata": {},
     "output_type": "execute_result"
    }
   ],
   "source": [
    "fz"
   ]
  },
  {
   "cell_type": "code",
   "execution_count": 43,
   "metadata": {},
   "outputs": [
    {
     "data": {
      "text/latex": [
       "$\\displaystyle \\left[ \\left( - \\frac{3}{4}, \\  -2, \\  0\\right), \\  \\left( - \\frac{3}{4}, \\  2, \\  0\\right)\\right]$"
      ],
      "text/plain": [
       "[(-3/4, -2, 0), (-3/4, 2, 0)]"
      ]
     },
     "execution_count": 43,
     "metadata": {},
     "output_type": "execute_result"
    }
   ],
   "source": [
    "eq1 = Eq(fx, 0)\n",
    "eq2 = Eq(fy, 0)\n",
    "eq3 = Eq(fz, 0)\n",
    "solve([eq1,eq2, eq3],(x,y,z))"
   ]
  },
  {
   "cell_type": "code",
   "execution_count": 44,
   "metadata": {},
   "outputs": [
    {
     "data": {
      "text/plain": [
       "array([[  4,   0,   0],\n",
       "       [  0, -12,   0],\n",
       "       [  0,   0,  -8]])"
      ]
     },
     "execution_count": 44,
     "metadata": {},
     "output_type": "execute_result"
    }
   ],
   "source": [
    "fxx = diff(fx, x)\n",
    "fxy = diff(fx, y)\n",
    "fxz = diff(fx, z)\n",
    "fyx = diff(fy, x)\n",
    "fyy = diff(fy, y)\n",
    "fyz = diff(fy, z)\n",
    "fzx = diff(fz, x)\n",
    "fzy = diff(fz, y)\n",
    "fzz = diff(fz, z)\n",
    "\n",
    "fyy = -12\n",
    "\n",
    "matriz = np.array(((fxx, fxy, fxz), (fyx, fyy, fyz), (fzx, fzy, fzz)), dtype='int')\n",
    "matriz"
   ]
  },
  {
   "cell_type": "code",
   "execution_count": 46,
   "metadata": {},
   "outputs": [
    {
     "data": {
      "text/plain": [
       "array([[w, 0, 0],\n",
       "       [0, w, 0],\n",
       "       [0, 0, w]], dtype=object)"
      ]
     },
     "execution_count": 46,
     "metadata": {},
     "output_type": "execute_result"
    }
   ],
   "source": [
    "matriz2 = np.array(((w, 0, 0), (0, w, 0), (0, 0, w)))\n",
    "matriz2"
   ]
  },
  {
   "cell_type": "code",
   "execution_count": 45,
   "metadata": {},
   "outputs": [
    {
     "data": {
      "text/plain": [
       "array([[4 - w, 0, 0],\n",
       "       [0, -w - 12, 0],\n",
       "       [0, 0, -w - 8]], dtype=object)"
      ]
     },
     "execution_count": 45,
     "metadata": {},
     "output_type": "execute_result"
    }
   ],
   "source": [
    "matrizFinal = (np.subtract(matriz, matriz2))\n",
    "matrizFinal"
   ]
  },
  {
   "cell_type": "code",
   "execution_count": 47,
   "metadata": {},
   "outputs": [
    {
     "data": {
      "text/plain": [
       "array([[ 4,  0,  0],\n",
       "       [ 0, 12,  0],\n",
       "       [ 0,  0, -8]])"
      ]
     },
     "execution_count": 47,
     "metadata": {},
     "output_type": "execute_result"
    }
   ],
   "source": [
    "fxx = diff(fx, x)\n",
    "fxy = diff(fx, y)\n",
    "fxz = diff(fx, z)\n",
    "fyx = diff(fy, x)\n",
    "fyy = diff(fy, y)\n",
    "fyz = diff(fy, z)\n",
    "fzx = diff(fz, x)\n",
    "fzy = diff(fz, y)\n",
    "fzz = diff(fz, z)\n",
    "\n",
    "fyy = 12\n",
    "\n",
    "matriz = np.array(((fxx, fxy, fxz), (fyx, fyy, fyz), (fzx, fzy, fzz)), dtype='int')\n",
    "matriz"
   ]
  },
  {
   "cell_type": "code",
   "execution_count": 48,
   "metadata": {},
   "outputs": [
    {
     "data": {
      "text/plain": [
       "array([[w, 0, 0],\n",
       "       [0, w, 0],\n",
       "       [0, 0, w]], dtype=object)"
      ]
     },
     "execution_count": 48,
     "metadata": {},
     "output_type": "execute_result"
    }
   ],
   "source": [
    "matriz2 = np.array(((w, 0, 0), (0, w, 0), (0, 0, w)))\n",
    "matriz2"
   ]
  },
  {
   "cell_type": "code",
   "execution_count": 49,
   "metadata": {},
   "outputs": [
    {
     "data": {
      "text/plain": [
       "array([[4 - w, 0, 0],\n",
       "       [0, 12 - w, 0],\n",
       "       [0, 0, -w - 8]], dtype=object)"
      ]
     },
     "execution_count": 49,
     "metadata": {},
     "output_type": "execute_result"
    }
   ],
   "source": [
    "matrizFinal = (np.subtract(matriz, matriz2))\n",
    "matrizFinal"
   ]
  },
  {
   "cell_type": "markdown",
   "metadata": {},
   "source": [
    "### D. Máximos e mínimos absolutos\n",
    "\n",
    "Após estudar os pontos críticos das funções de várias variáveis, vamos agora tentar estudar o comportamento dessas funções a fim de descobrir quais pontos críticos são menor e maior. Esse não é um conceito totalmente novo, tendo em vista que também fazemos isso para funções de uma variável.\n",
    "\n",
    "Encontrar os pontos de máximo e de mínimo de uma função utiliza basicamente os mesmos métodos vistos para cálculo de pontos críticos, com a exceção de que para os mesmos encontrados, devemos testar quais entre eles são extremos e se também são para todos os pontos encontrados no domínio da função.\n",
    "\n",
    "#### 1) Máximos e mínimos em uma região aberta\n",
    "\n",
    "Primeiro, vamos estudar os pontos absolutos das funções em todo o domínio da mesma, sem nenhuma restrição.\n",
    "\n",
    "Para este conteúdo é bem interessante rever um pouco sobre a imagem de funções de várias variáveis. Isso porque para termos a certeza que de um ponto crítico é de máximo absoluto ou de mínimo absoluto devemos saber qual o maior e o menor valor a função pode atingir.\n",
    "\n",
    "Como já sabemos calcular os pontos críticos de uma função vamos fazer alguns exemplos para um melhor entendimento e só então definí-los como sendo de máximo ou de mínimo.\n",
    "\n",
    "Então, vamos definir os pontos de máximo e de mínimo, caso existam, da função $$f(x, y) = x^2+y^2$$.\n",
    "\n",
    "Calculando as derivadas parciais e igualando à 0 encontramos:\n",
    "\n",
    "$$\\frac{\\partial f}{\\partial x} = 2x = 0 \\rightarrow x = 0$$\n",
    "$$\\frac{\\partial f}{\\partial y} = 2y = 0 \\rightarrow y = 0$$\n",
    "\n",
    "O ponto crítico encontrado foi P = (0, 0).\n",
    "\n",
    "Analisando a função f(x, y) agora podemos ver que para qualquer valor de x, seja ele positivo ou negativo, o menor valor que influenciará na função será 0, já que mesmo que colocássemos valores negativos, a potência quadrada o tornaria positivo.\n",
    "\n",
    "Isso também serve para o y, ou seja, o menor valor que a função pode assumir é para x = 0 e y = 0.\n",
    "\n",
    "Como o nosso ponto encontrado foi P = (0, 0) e ambas as coordenadas atenderam à análise que acabamos de fazer, P é um ponto de mínimo absoluto."
   ]
  },
  {
   "cell_type": "code",
   "execution_count": 34,
   "metadata": {},
   "outputs": [
    {
     "data": {
      "text/latex": [
       "$\\displaystyle 2 x$"
      ],
      "text/plain": [
       "2⋅x"
      ]
     },
     "execution_count": 34,
     "metadata": {},
     "output_type": "execute_result"
    }
   ],
   "source": [
    "def f(x, y):\n",
    "    return (x**2+y**2)\n",
    "\n",
    "fx = diff(f(x, y), x)\n",
    "fx"
   ]
  },
  {
   "cell_type": "code",
   "execution_count": 35,
   "metadata": {},
   "outputs": [
    {
     "data": {
      "text/latex": [
       "$\\displaystyle 2 y$"
      ],
      "text/plain": [
       "2⋅y"
      ]
     },
     "execution_count": 35,
     "metadata": {},
     "output_type": "execute_result"
    }
   ],
   "source": [
    "fy = diff(f(x, y), y)\n",
    "fy"
   ]
  },
  {
   "cell_type": "code",
   "execution_count": 36,
   "metadata": {},
   "outputs": [
    {
     "data": {
      "text/latex": [
       "$\\displaystyle \\left\\{ x : 0, \\  y : 0\\right\\}$"
      ],
      "text/plain": [
       "{x: 0, y: 0}"
      ]
     },
     "execution_count": 36,
     "metadata": {},
     "output_type": "execute_result"
    }
   ],
   "source": [
    "eq1 = Eq(fx, 0)\n",
    "eq2 = Eq(fy, 0)\n",
    "solve([eq1,eq2],(x,y))"
   ]
  },
  {
   "cell_type": "markdown",
   "metadata": {},
   "source": [
    "Exemplo 2.\n",
    "\n",
    "Calcule os pontos de máximo e de mínimo, caso existam, da função $$f(x, y) = sen(x+3)+sen(y)$$.\n",
    "\n",
    "Calculando as derivadas parciais temos:\n",
    "\n",
    "$$\\frac{\\partial f}{\\partial x} = cos(x+3) = 0 \\rightarrow x + 3 = arccos(0) \\rightarrow x = \\frac{\\pi}{2} - 3$$\n",
    "$$\\frac{\\partial f}{\\partial y} = sen(y) = 0 \\rightarrow y = arccos(0) \\rightarrow y  = \\frac{\\pi}{2}$$\n",
    "\n",
    "O nosso ponto crítico encontrado foi $P = (\\frac{\\pi}{2} - 3, \\frac{\\pi}{2})$\n",
    "\n",
    "Analisando a função vemos que o seu valor mínimo é de -2 e o máximo é de 2 já que cada seno tem valores extremos de -1 e 1, respectivamente.\n",
    "\n",
    "Aplicando o ponto encontrado na função, temos:\n",
    "\n",
    "$$f\\left(\\frac{\\pi}{2} - 3, \\frac{\\pi}{2}\\right) = sen\\left(\\frac{\\pi}{2} - 3+3\\right)+sen\\left(\\frac{\\pi}{2}\\right) = 1 + 1 = 2$$\n",
    "\n",
    "Vemos que a substituição do ponto resultou no valor 2 que é o máximo da função, ou seja, o ponto P é um ponto de máximo.\n",
    "\n",
    "#### 2) Máximos e mínimos em uma região fechada\n",
    "\n",
    "Agora vamos estudar os pontos de máximo e mínimo absolutos em regiões que não sejam todo o domínio da função.\n",
    "\n",
    "Para isso, todos os cálculos são efetuados da mesma maneira que nós fizemos até agora, porém, temos que testar vários pontos que iremos considerar como críticos.\n",
    "\n",
    "Os possíveis pontos que devemos encontrar são:\n",
    "\n",
    "1. Pontos críticos de todo o domínio (ou seja, aqueles pontos que nós calculamos normalmente zerando as derivadas e igualando à 0, porém, nesse caso o ponto deve ser testado para saber se está contido na região fechada).\n",
    "2. Pontos críticos na fronteira da região fechada.\n",
    "3. Vértices da região fechada, caso a mesma tenha.\n",
    "\n",
    "Após descobrir todos esses pontos, deve-se aplicar todos na função e então descobrir quais são o maior e o menor para definir os pontos de máximo e mínimo.\n",
    "\n",
    "Como exemplo, tomemos a função $f(x, y) = x^2 + 3y^2 +2x - y$. Vamos então seguir essa sequência para encontrar todos os pontos críticos dentro da região tal que $x \\leq |3|$ e $-3 \\leq y \\leq 5$.\n",
    "\n",
    "Para resolvermos isso, vamos primeiro calcular os pontos críticos em todo o domínio de f e verificar se os mesmos estão na região fechada. Então,\n",
    "\n",
    "$$f_x = 2x+2 = 0 \\rightarrow x = -1$$\n",
    "$$f_y = 6y-1 = 0 \\rightarrow y = \\frac{1}{6}$$\n",
    "\n",
    "Assim, encontramos o ponto $P_0 = (-2, \\frac{1}{6})$.\n",
    "\n",
    "Como $-3 \\leq -2 \\leq 3$ e $-3 \\leq \\frac{1}{6} \\leq 5$, significa que o ponto $P_0$ está na região fechada.\n",
    "\n",
    "Agora vamos encontrar os pontos críticos nas fronteiras da região.\n",
    "\n",
    "Primeiro, vamos analisar o gráfico dessa região.\n",
    "\n",
    "A partir disso podemos perceber que a mesma possui três lado denotando toda a sua fronteira, então, para testar os pontos críticos da fronteira devemos separar cada lado da mesma, aplicar em f(x, y) e então tirar os pontos críticos da função resultante.\n",
    "\n",
    "Para o lado em que $x=-3$ temos:\n",
    "\n",
    "$$f(-3, y) = (-3)^2+3y^2+2(-3)-y = 9 +3y^2-6-y = 3y^2-y+3$$\n",
    "\n",
    "$$f'(-3, y) = 6y-1 \\rightarrow 6y-1 = 0 \\rightarrow y = \\frac{1}{6}$$\n",
    "\n",
    "Então, o nosso primeiro ponto crítico encontrado na fronteira da nossa região fechada foi $P_1 = (-3, \\frac{1}{6})$\n",
    "\n",
    "Para o lado em que $x=3$ temos:\n",
    "\n",
    "$$f(3, y) = 3^2+3y^2+2.3-y = 3y^2-y+15$$\n",
    "\n",
    "$$f'(3, y) = 6y-1 \\rightarrow 6y-1 = 0 \\rightarrow y = \\frac{1}{6}$$\n",
    "\n",
    "Então, o nosso segundo ponto crítico encontrado na fronteira da nossa região fechada foi $P_2 = (3, \\frac{1}{6})$\n",
    "\n",
    "Para o lado em que $y=-3$ temos:\n",
    "\n",
    "$$f(x, -3) = x^2+3(-3)^2+2x-(-3) = x^2+27+2x+3$$\n",
    "$$= x^2+2x+30$$\n",
    "\n",
    "$$f'(x, -3) = 2x+2 \\rightarrow 2x+2 = 0 \\rightarrow x = -1$$\n",
    "\n",
    "Então, o nosso terceiro ponto crítico encontrado na fronteira da nossa região fechada foi $P_3 = (-1, -3)$\n",
    "\n",
    "Para o lado em que $y=5$ temos:\n",
    "\n",
    "$$f(x, 5) = x^2+3.5^2+2x-5 = x^2+75+2x-5 = x^2+2x+70$$\n",
    "\n",
    "$$f'(x, 5) = 2x+2 \\rightarrow 2x+2 = 0 \\rightarrow x = -1$$\n",
    "\n",
    "Então, o nosso quarto ponto crítico encontrado na fronteira da nossa região fechada foi $P_4 = (-1, 5)$\n",
    "\n",
    "Agora que encontramos os pontos da fronteira devemos encontrar os últimos possíveis pontos críticos, que são os pontos do vértice.\n",
    "\n",
    "Pela figura, percebemos que os mesmos são:\n",
    "\n",
    "$$P_5 = (-3, 5)$$\n",
    "$$P_6 = (3, 5)$$\n",
    "$$P_7 = (-3, -3)$$\n",
    "$$P_8 = (3, -3)$$\n",
    "\n",
    "Agora vamos substituir todos os pontos encontrados na função para saber quem é o maior e o menor.\n",
    "\n",
    "Testanto para $P_0$ temos:\n",
    "\n",
    "$$f\\left(-2, \\frac{1}{6}\\right) = (-2)^2 + 3\\left(\\frac{1}{6}\\right)^2+2(-2)-\\frac{1}{6} = 4+\\frac{3}{36} -4 -\\frac{1}{6} $$\n",
    "$$= \\frac{1}{12} - - \\frac{1}{6} = \\frac{1-2}{12} = -\\frac{1}{12} \\approx -0,083$$\n",
    "\n",
    "Testanto para $P_1$ temos:\n",
    "\n",
    "$$f\\left(-3, \\frac{1}{6}\\right) = (-3)^2 + 3\\left(\\frac{1}{6}\\right)^2+2.(-3)-\\frac{1}{6} $$\n",
    "$$= 9+\\frac{3}{36}-6-\\frac{1}{6} = 3 - \\frac{1}{12} = \\frac{36-1}{12} = \\frac{35}{12} \\approx 2,91$$\n",
    "\n",
    "Testanto para $P_2$ temos:\n",
    "\n",
    "$$f\\left(3, \\frac{1}{6}\\right) = (3)^2 + 3\\left(\\frac{1}{6}\\right)^2+2.3-\\frac{1}{6} = 9+\\frac{3}{36}+6-\\frac{1}{6}$$\n",
    "$$= 15 - \\frac{1}{12} = \\frac{180-1}{12} = \\frac{179}{12} \\approx 14,91$$\n",
    "\n",
    "Testanto para $P_3$ temos:\n",
    "\n",
    "$$f(-1, -3) = (-1)^2+3(-3)^2+2(-1)-(-3)=1+3.9-2+3=1+27-2+3=29$$\n",
    "\n",
    "Testanto para $P_4$ temos:\n",
    "\n",
    "$$f(-1, 5) = (-1)^2+3.5^2+2(-1)-5=1+3.25-2-5=1+75-7=75-6=69$$\n",
    "\n",
    "Testanto para $P_5$ temos:\n",
    "\n",
    "$$f(-3, 5) = (-3)^2+3.5^2+2(-3)-5=9+3.25-6-5=9+75-11=73$$\n",
    "\n",
    "Testanto para $P_6$ temos:\n",
    "\n",
    "$$f(3, 5) = 3^2+3.5^2+2.3-5=9+75+6-5=85$$\n",
    "\n",
    "Testanto para $P_7$ temos:\n",
    "\n",
    "$$f(-3, -3) = (-3)^2+3.(-3)^2+2(-3)-(-3)=9+3.9-6+3=9+27-3=33$$\n",
    "\n",
    "Testanto para $P_8$ temos:\n",
    "\n",
    "$$f(3, -3) = 3^2+3.(-3)^2+2.3-(-3)=9+27+6+3=45$$\n",
    "\n",
    "Analisando todos os pontos, vemos então que o ponto 1 é o menor quando aplicado à função, ou seja, é o nosso ponto de mínimo. Vemos também que o ponto 6 é o maior entre eles aplicados à função, ou seja, o mesmo é o ponto de máximo."
   ]
  },
  {
   "cell_type": "code",
   "execution_count": 20,
   "metadata": {},
   "outputs": [
    {
     "data": {
      "text/latex": [
       "$\\displaystyle 2 x + 2$"
      ],
      "text/plain": [
       "2⋅x + 2"
      ]
     },
     "execution_count": 20,
     "metadata": {},
     "output_type": "execute_result"
    }
   ],
   "source": [
    "def f(x, y):\n",
    "    return (x**2+3*y**2+2*x-y)\n",
    "\n",
    "fx = diff(f(x, y), x)\n",
    "fx"
   ]
  },
  {
   "cell_type": "code",
   "execution_count": 22,
   "metadata": {},
   "outputs": [
    {
     "data": {
      "text/latex": [
       "$\\displaystyle 6 y - 1$"
      ],
      "text/plain": [
       "6⋅y - 1"
      ]
     },
     "execution_count": 22,
     "metadata": {},
     "output_type": "execute_result"
    }
   ],
   "source": [
    "fy = diff(f(x, y), y)\n",
    "fy"
   ]
  },
  {
   "cell_type": "code",
   "execution_count": 23,
   "metadata": {},
   "outputs": [
    {
     "data": {
      "text/latex": [
       "$\\displaystyle \\left\\{ x : -1, \\  y : \\frac{1}{6}\\right\\}$"
      ],
      "text/plain": [
       "{x: -1, y: 1/6}"
      ]
     },
     "execution_count": 23,
     "metadata": {},
     "output_type": "execute_result"
    }
   ],
   "source": [
    "eq1 = Eq(fx, 0)\n",
    "eq2 = Eq(fy, 0)\n",
    "solve([eq1,eq2],(x,y))"
   ]
  },
  {
   "cell_type": "code",
   "execution_count": 24,
   "metadata": {},
   "outputs": [
    {
     "data": {
      "text/latex": [
       "$\\displaystyle -1.0833333333333335$"
      ],
      "text/plain": [
       "-1.0833333333333335"
      ]
     },
     "execution_count": 24,
     "metadata": {},
     "output_type": "execute_result"
    }
   ],
   "source": [
    "def f(a, b):\n",
    "    return a**2+3*b**2+2*a-b\n",
    "\n",
    "f(-1, 1/6)"
   ]
  },
  {
   "cell_type": "code",
   "execution_count": 25,
   "metadata": {},
   "outputs": [
    {
     "data": {
      "text/latex": [
       "$\\displaystyle 2.9166666666666674$"
      ],
      "text/plain": [
       "2.9166666666666674"
      ]
     },
     "execution_count": 25,
     "metadata": {},
     "output_type": "execute_result"
    }
   ],
   "source": [
    "f(-3, 1/6)"
   ]
  },
  {
   "cell_type": "code",
   "execution_count": 26,
   "metadata": {},
   "outputs": [
    {
     "data": {
      "text/latex": [
       "$\\displaystyle 14.916666666666668$"
      ],
      "text/plain": [
       "14.916666666666668"
      ]
     },
     "execution_count": 26,
     "metadata": {},
     "output_type": "execute_result"
    }
   ],
   "source": [
    "f(3, 1/6)"
   ]
  },
  {
   "cell_type": "code",
   "execution_count": 27,
   "metadata": {},
   "outputs": [
    {
     "data": {
      "text/latex": [
       "$\\displaystyle 29$"
      ],
      "text/plain": [
       "29"
      ]
     },
     "execution_count": 27,
     "metadata": {},
     "output_type": "execute_result"
    }
   ],
   "source": [
    "f(-1, -3)"
   ]
  },
  {
   "cell_type": "code",
   "execution_count": 28,
   "metadata": {},
   "outputs": [
    {
     "data": {
      "text/latex": [
       "$\\displaystyle 69$"
      ],
      "text/plain": [
       "69"
      ]
     },
     "execution_count": 28,
     "metadata": {},
     "output_type": "execute_result"
    }
   ],
   "source": [
    "f(-1, 5)"
   ]
  },
  {
   "cell_type": "code",
   "execution_count": 29,
   "metadata": {},
   "outputs": [
    {
     "data": {
      "text/latex": [
       "$\\displaystyle 73$"
      ],
      "text/plain": [
       "73"
      ]
     },
     "execution_count": 29,
     "metadata": {},
     "output_type": "execute_result"
    }
   ],
   "source": [
    "f(-3, 5)"
   ]
  },
  {
   "cell_type": "code",
   "execution_count": 30,
   "metadata": {},
   "outputs": [
    {
     "data": {
      "text/latex": [
       "$\\displaystyle 85$"
      ],
      "text/plain": [
       "85"
      ]
     },
     "execution_count": 30,
     "metadata": {},
     "output_type": "execute_result"
    }
   ],
   "source": [
    "f(3, 5)"
   ]
  },
  {
   "cell_type": "code",
   "execution_count": 33,
   "metadata": {},
   "outputs": [
    {
     "data": {
      "text/latex": [
       "$\\displaystyle 33$"
      ],
      "text/plain": [
       "33"
      ]
     },
     "execution_count": 33,
     "metadata": {},
     "output_type": "execute_result"
    }
   ],
   "source": [
    "f(-3, -3)"
   ]
  },
  {
   "cell_type": "code",
   "execution_count": 32,
   "metadata": {},
   "outputs": [
    {
     "data": {
      "text/latex": [
       "$\\displaystyle 45$"
      ],
      "text/plain": [
       "45"
      ]
     },
     "execution_count": 32,
     "metadata": {},
     "output_type": "execute_result"
    }
   ],
   "source": [
    "f(3, -3)"
   ]
  },
  {
   "cell_type": "markdown",
   "metadata": {},
   "source": [
    "### E. Multiplicadores de Lagrange\n",
    "\n",
    "Enfim chegamos ao último assunto deste material, que são os famosos Multiplicadores de Lagrange. Mas não se preocupe, pois não é nada de muito diferente do que nós vimos até agora.\n",
    "\n",
    "Esses operadores servem para calcular os máximos e os mínimos de uma função em cima de uma área restrita, tal que essa área seja uma outra função. Mas como assim?\n",
    "\n",
    "A partir de uma função f(x, y) dada, podemos descobrir os pontos críticos da mesma em uma única área, ao invés de seu domínio completo, tal que essa nova área é representada por uma outra função g(x, y).\n",
    "\n",
    "Para fazer esse cálculo g(x) deve ser igualada à 0 e $\\nabla f(x, y) = \\lambda\\nabla g(x, y)$, tal que $\\lambda$ é o chamado ***multiplicador de Lagrange***.\n",
    "Após isso, deve-se montar um sistema composto pelos vetores resultantes dessa igualdade como também a função g(x, y).\n",
    "\n",
    "A partir da resolução do sistema os pontos são encontrados, e então basta substituí-los em f(x, y) para achar quem é o maior, no caso do máximo, ou o menor, no caso do mínimo.\n",
    "\n",
    "Exemplo 1.\n",
    "\n",
    "Ache os pontos de máximo e de mínimo da função $f(x, y) = 3x^2+2y^2+6x+4y$ sobre a curva $x^2+3y^2+2x+6y$.\n",
    "\n",
    "Resolução:\n",
    "\n",
    "Então, vamos começar calculando o vetor gradiente de f e g.\n",
    "\n",
    "$$\\nabla f(x, y) = (6x+6, 4y+4)$$\n",
    "$$\\nabla g(x, y) = (2x+2, 6y+6)$$\n",
    "\n",
    "Agora, montando o sistea com os gradientes e g(x, y) temos:\n",
    "\n",
    "$$\\left\\{ \\begin{array}{c}\n",
    "6x+6 = \\lambda(2x+2)\\\\\n",
    "4y+4 = \\lambda(6y+6)\\\\\n",
    "x^2+3y^2+2x+6y = 0\n",
    "\\end{array}\n",
    "\\right.$$\n",
    "\n",
    "Resolvendo o mesmo chegamos a:\n",
    "\n",
    "$$\\left\\{ \\begin{array}{c}\n",
    "3(2x+2)-\\lambda(2x+2) = 0\\\\\n",
    "2(2y+2)-3\\lambda(2y+2) = 0\\\\\n",
    "x^2+3y^2+2x+6y = 0\n",
    "\\end{array}\n",
    "\\right.$$\n",
    "\n",
    "$$\\left\\{ \\begin{array}{c}\n",
    "(2x+2)(3-\\lambda) = 0\\\\\n",
    "(2y+2)(2-3\\lambda) = 0\\\\\n",
    "x^2+3y^2+2x+6y = 0\n",
    "\\end{array}\n",
    "\\right.$$\n",
    "\n",
    "No caso da última equação basta completar os quadrados para fazer os produtos notáveis. Para isso, se somarmos 1 dos dois lados da equação, do lado esquerdo fazemos o produto $(x+1)^2$ bem como se somarmos 3 dos dois lados também podemos fazer o outro quadrado $(\\sqrt{3}y + \\sqrt{3})^2$, ficando com:\n",
    "\n",
    "$$x^2+3y^2+2x+6y = 0 \\rightarrow x^2+2x+1+3y^2+6y+3= 1+3$$\n",
    "$$\\rightarrow (x+1)^2 + (\\sqrt{3}y + \\sqrt{3})^2 = 4$$\n",
    "\n",
    "Agora vamos calcular os pontos a partir do sistema.\n",
    "\n",
    "Aqui temos dois casos a considerar. Primeiro:\n",
    "\n",
    "Pela primeira equação temos $(2x+2)(3-\\lambda) = 0$, o que nos dá $(2x+2) = 0$ ou $(3-\\lambda) = 0$. Então vamos encontrar $\\lambda$.\n",
    "$$(3-\\lambda) = 0 \\rightarrow \\lambda = 3$$\n",
    "\n",
    "Agora analisando a segunda equação vemos que $(2y+2)(2-3\\lambda) = 0$ e $(2y+2) = 0$ ou $(2-3\\lambda) = 0$, só que como $\\lambda = 3$, $(2-3\\lambda) \\neq 0$ , o que nos dá $(2y+2) = 0 \\rightarrow 2y = -2 \\rightarrow y = -\\frac{2}{2} = -1$.\n",
    "\n",
    "Substituindo y na terceira equação:\n",
    "\n",
    "$$(x+1)^2 + (\\sqrt{3}y + \\sqrt{3})^2 = 4 \\rightarrow (x+1)^2 + (\\sqrt{3}(-1) + \\sqrt{3})^2 = 4$$\n",
    "$$\\rightarrow(x+1)^2 + (-\\sqrt{3} + \\sqrt{3})^2 = 4 \\rightarrow (x+1)^2 = 4$$\n",
    "$$\\rightarrow x+1 = \\pm\\sqrt{4} \\rightarrow x+1 = \\pm 2$$\n",
    "\n",
    "Então ficamos com $x = -3$ e $x = 1$. O que nos dá dois pontos $(1, -1)$ e $(-3, -1)$.\n",
    "\n",
    "Olhando para o segundo caso, o que $2x+2=0 \\rightarrow 2(x+1) = 0 \\rightarrow x+1 = 0 \\rightarrow x = -1$.\n",
    "\n",
    "Vamos descobrir y pela última equação utilizando esse x. Então, $$(x+1)^2 + (\\sqrt{3}y + \\sqrt{3})^2 = 4 \\rightarrow (-1+1)^2 + (\\sqrt{3}y + \\sqrt{3})^2 = 4$$\n",
    "$$(\\sqrt{3}y + \\sqrt{3})^2 = 4 \\rightarrow \\sqrt{3}y + \\sqrt{3} = \\pm2$$\n",
    "$$\\sqrt{3}y = \\pm 2 -\\sqrt{3} \\rightarrow y = \\frac{\\pm 2 -\\sqrt{3}}{\\sqrt{3}}$$\n",
    "\n",
    "Deu um número bastante complexo, mas calculando os dois chegamos a: $$y' \\approx 0,15$$ e $$y'' \\approx -2,15$$. Encontrando assim mais dois pontos $(-1, 0.15)$ e $(-1, -2.15)$.\n",
    "\n",
    "Como já achamos todos os pontos críticos da função na restrição, basta substituir os mesmos em f(x) para vermos quem é máximo e mínimo.\n",
    "\n",
    "$$f(1, -1) = 3(1)^2 + 2(-1)^2+6(1)+4(-1) = 7$$\n",
    "$$f(-3, -1) = 3(-3)^2 + 2(-1)^2+6(-3)+4(-1) = 7$$\n",
    "$$f(-1, 0.15) = 3(-1)^2 + 2(0.15)^2+6(-1)+4(0.15) = -2.3$$\n",
    "$$f(-1, -2.15) = 3(-1)^2 + 2(-2.15)^2+6(-1)+4(-2.15) = -2.3$$\n",
    "\n",
    "Como $f(P_1) = f(P_2) > f(P_3) = f(P_4)$, $P_1$ e $P_2$ são pontos de máximo e $P_3$ e $P_4$ são pontos de mínimo."
   ]
  },
  {
   "cell_type": "code",
   "execution_count": 14,
   "metadata": {},
   "outputs": [
    {
     "data": {
      "text/latex": [
       "$\\displaystyle \\left[ \\left( -3, \\  -1, \\  3\\right), \\  \\left( -1, \\  -1 + \\frac{2 \\sqrt{3}}{3}, \\  \\frac{2}{3}\\right), \\  \\left( -1, \\  - \\frac{2 \\sqrt{3}}{3} - 1, \\  \\frac{2}{3}\\right), \\  \\left( 1, \\  -1, \\  3\\right)\\right]$"
      ],
      "text/plain": [
       "⎡             ⎛         2⋅√3     ⎞  ⎛      2⋅√3         ⎞            ⎤\n",
       "⎢(-3, -1, 3), ⎜-1, -1 + ────, 2/3⎟, ⎜-1, - ──── - 1, 2/3⎟, (1, -1, 3)⎥\n",
       "⎣             ⎝          3       ⎠  ⎝       3           ⎠            ⎦"
      ]
     },
     "execution_count": 14,
     "metadata": {},
     "output_type": "execute_result"
    }
   ],
   "source": [
    "def f(x, y):\n",
    "    return (3*x**2+2*y**2+6*x+4*y)\n",
    "\n",
    "def g(x, y):\n",
    "    return (x**2+3*y**2+2*x+6*y)\n",
    "\n",
    "fx = diff(f(x, y), x)\n",
    "fy = diff(f(x, y), y)\n",
    "\n",
    "gx = diff(g(x, y), x)\n",
    "gy = diff(g(x, y), y)\n",
    "\n",
    "eq1 = Eq(fx, w*gx)\n",
    "eq2 = Eq(fy, w*gy)\n",
    "eq3 = Eq(g(x, y), 0)\n",
    "solve([eq1,eq2, eq3],(x,y,w))"
   ]
  },
  {
   "cell_type": "markdown",
   "metadata": {},
   "source": [
    "**Obs.** Para o caso de se querer calcular com mais restrições basta seguir o mesmo princípio de uma restrição, porém dessa vez a fórmula utilizada é: \n",
    "\n",
    "$$\\nabla f(x, y, z) = \\lambda \\nabla g(x, y, z) + \\mu \\nabla h(x, y, z)$$"
   ]
  }
 ],
 "metadata": {
  "kernelspec": {
   "display_name": "Python 3",
   "language": "python",
   "name": "python3"
  },
  "language_info": {
   "codemirror_mode": {
    "name": "ipython",
    "version": 3
   },
   "file_extension": ".py",
   "mimetype": "text/x-python",
   "name": "python",
   "nbconvert_exporter": "python",
   "pygments_lexer": "ipython3",
   "version": "3.6.7"
  }
 },
 "nbformat": 4,
 "nbformat_minor": 2
}
